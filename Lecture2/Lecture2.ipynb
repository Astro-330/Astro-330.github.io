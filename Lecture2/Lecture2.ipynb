{
 "cells": [
  {
   "cell_type": "markdown",
   "metadata": {
    "slideshow": {
     "slide_type": "slide"
    }
   },
   "source": [
    "# 2. Object Oriented Programming "
   ]
  },
  {
   "cell_type": "markdown",
   "metadata": {
    "slideshow": {
     "slide_type": "slide"
    }
   },
   "source": [
    "In this lecture, we'll go over the basics of writing object oriented code. Because this is a large shift in programming syntax (and thinking), we'll be spending several lectures building up intuition for it. "
   ]
  },
  {
   "cell_type": "markdown",
   "metadata": {
    "slideshow": {
     "slide_type": "slide"
    }
   },
   "source": [
    "## Part I: Methods and Attributes"
   ]
  },
  {
   "cell_type": "markdown",
   "metadata": {
    "slideshow": {
     "slide_type": "slide"
    }
   },
   "source": [
    "*Writing* classes can be intimidating at first, and doing so involves some general boilerplate that can be confusing at first. "
   ]
  },
  {
   "cell_type": "markdown",
   "metadata": {
    "slideshow": {
     "slide_type": "fragment"
    }
   },
   "source": [
    "*Using* classes, on the other hand, is generally fairly intuitive. One reason for this: \n",
    "\n",
    "***Everything in Python is an Object***. This means we are fairly used to using objects, even if we don't know it."
   ]
  },
  {
   "cell_type": "markdown",
   "metadata": {
    "slideshow": {
     "slide_type": "slide"
    }
   },
   "source": [
    "Let's begin with a simple example. I'm going to initialize a basic `numpy` array. "
   ]
  },
  {
   "cell_type": "code",
   "execution_count": 2,
   "metadata": {
    "slideshow": {
     "slide_type": "fragment"
    }
   },
   "outputs": [
    {
     "data": {
      "text/plain": [
       "array([[15.5, 15.5, 15.5, 15.5, 15.5, 15.5],\n",
       "       [15.5, 15.5, 15.5, 15.5, 15.5, 15.5],\n",
       "       [15.5, 15.5, 15.5, 15.5, 15.5, 15.5],\n",
       "       [15.5, 15.5, 15.5, 15.5, 15.5, 15.5],\n",
       "       [15.5, 15.5, 15.5, 15.5, 15.5, 15.5]])"
      ]
     },
     "execution_count": 2,
     "metadata": {},
     "output_type": "execute_result"
    }
   ],
   "source": [
    "import numpy as np\n",
    "\n",
    "arr = np.ones((5,6))*15.5 \n",
    "arr"
   ]
  },
  {
   "cell_type": "markdown",
   "metadata": {
    "slideshow": {
     "slide_type": "slide"
    }
   },
   "source": [
    "This simple array, `arr`, is an *object*. Objects in python have both *attributes* and *methods*. Both are accessed via what we call *dot notation*. Using dot notation, we can access an attribute of an object as follows:"
   ]
  },
  {
   "cell_type": "code",
   "execution_count": 3,
   "metadata": {
    "slideshow": {
     "slide_type": "fragment"
    }
   },
   "outputs": [
    {
     "data": {
      "text/plain": [
       "(5, 6)"
      ]
     },
     "execution_count": 3,
     "metadata": {},
     "output_type": "execute_result"
    }
   ],
   "source": [
    "arr.shape"
   ]
  },
  {
   "cell_type": "markdown",
   "metadata": {
    "slideshow": {
     "slide_type": "slide"
    }
   },
   "source": [
    "`shape` is an attribute of all `numpy` arrays. By executing `arr.shape`, we retrieved this attribute. For documented classes, available attributes are generally listed in the documentation. The are also generally available for tab completion. \n",
    "\n",
    "Attributes are called as such because they are not *callable*. We can query them, but they are more like \"properties\" of the object, which are often used to make our code more robust (e.g., instead of hard-coding numbers into a code, we can flexibly adjust based on the sizes and shapes of the arrays within)."
   ]
  },
  {
   "cell_type": "markdown",
   "metadata": {
    "slideshow": {
     "slide_type": "slide"
    }
   },
   "source": [
    "Alternatively, `methods` of an object are callable functions that the object knows how to run, generally upon itself (with or without additional information). Returning to our `arr` array, we can call a method that reshapes the array:"
   ]
  },
  {
   "cell_type": "code",
   "execution_count": 9,
   "metadata": {
    "slideshow": {
     "slide_type": "fragment"
    }
   },
   "outputs": [
    {
     "data": {
      "text/plain": [
       "array([[15.5, 15.5, 15.5, 15.5, 15.5],\n",
       "       [15.5, 15.5, 15.5, 15.5, 15.5],\n",
       "       [15.5, 15.5, 15.5, 15.5, 15.5],\n",
       "       [15.5, 15.5, 15.5, 15.5, 15.5],\n",
       "       [15.5, 15.5, 15.5, 15.5, 15.5],\n",
       "       [15.5, 15.5, 15.5, 15.5, 15.5]])"
      ]
     },
     "execution_count": 9,
     "metadata": {},
     "output_type": "execute_result"
    }
   ],
   "source": [
    "arr.reshape(6,5)"
   ]
  },
  {
   "cell_type": "markdown",
   "metadata": {
    "slideshow": {
     "slide_type": "slide"
    }
   },
   "source": [
    "We use the same dot notation as for attribute access, but we then give parenthesis and arguments as necessary, as we would when calling a function. We can see here that the output of this method is a reshaping of the array. Most Python objects (especially the basic datatypes, such as `lists`, `arrays`, `dictionaries`, and even `floats`, `ints`, and `strings`) have many useful attributes and methods attached to them, and knowing them can save you time in your coding. "
   ]
  },
  {
   "cell_type": "markdown",
   "metadata": {
    "slideshow": {
     "slide_type": "slide"
    }
   },
   "source": [
    "In examples previous, we've seen plenty of quick method and attribute use --- for example, taking a string and running `.startswith()` on it, or `.strip()`. \n",
    "\n",
    "But how do we give ourselves the ability to write `classes` which give us this sort of attribute/method access flexibility?"
   ]
  },
  {
   "cell_type": "markdown",
   "metadata": {
    "slideshow": {
     "slide_type": "slide"
    }
   },
   "source": [
    "## Part II: Defining Classes"
   ]
  },
  {
   "cell_type": "markdown",
   "metadata": {
    "slideshow": {
     "slide_type": "slide"
    }
   },
   "source": [
    "Classes are defined via the `class` call, and all contain, at minimum, a method known as `__init__`. "
   ]
  },
  {
   "cell_type": "code",
   "execution_count": 10,
   "metadata": {
    "slideshow": {
     "slide_type": "fragment"
    }
   },
   "outputs": [],
   "source": [
    "class MyObject():\n",
    "    def __init__(self):\n",
    "        pass"
   ]
  },
  {
   "cell_type": "markdown",
   "metadata": {
    "slideshow": {
     "slide_type": "slide"
    }
   },
   "source": [
    "Methods of a class are defined just like normal functions, but are all indented within the block of the class. They also all contain `self` as the first argument of the method. Why is this?"
   ]
  },
  {
   "cell_type": "markdown",
   "metadata": {
    "slideshow": {
     "slide_type": "slide"
    }
   },
   "source": [
    "When we created an array above, we did something known as *instantiating an object*. Somewhere in the `numpy` library is a master template for what all `numpy arrays` look like, and we put in some arguments to determine what our specific instance of the class would look like. (In our context, this is the value of the array, 15.5, and its shape). "
   ]
  },
  {
   "cell_type": "markdown",
   "metadata": {
    "slideshow": {
     "slide_type": "fragment"
    }
   },
   "source": [
    "After this, we were able to to call methods of the class via its name (that we set it to in our code) plus the dot notation. The mapping of the *internal* methods of the class to the *external* method call is handled by the use of the `self` argument. "
   ]
  },
  {
   "cell_type": "markdown",
   "metadata": {
    "slideshow": {
     "slide_type": "slide"
    }
   },
   "source": [
    "As long as we remember to set `self` as the first argument of every method (followed by any other arguments you would typically add), our classes should work properly. There's one other critical element of using self:"
   ]
  },
  {
   "cell_type": "code",
   "execution_count": 11,
   "metadata": {
    "slideshow": {
     "slide_type": "fragment"
    }
   },
   "outputs": [],
   "source": [
    "class MyObject():\n",
    "    def __init__(self,parameter):\n",
    "        self.parameter = parameter       "
   ]
  },
  {
   "cell_type": "markdown",
   "metadata": {
    "slideshow": {
     "slide_type": "slide"
    }
   },
   "source": [
    "We've now given our class it's first initialized attribute, `parameter`. This parameter is fed in when we *instantiate* the object, not as any additional call: "
   ]
  },
  {
   "cell_type": "code",
   "execution_count": 12,
   "metadata": {
    "slideshow": {
     "slide_type": "fragment"
    }
   },
   "outputs": [],
   "source": [
    "obj1 = MyObject(parameter=5)"
   ]
  },
  {
   "cell_type": "code",
   "execution_count": 13,
   "metadata": {
    "slideshow": {
     "slide_type": "fragment"
    }
   },
   "outputs": [
    {
     "data": {
      "text/plain": [
       "5"
      ]
     },
     "execution_count": 13,
     "metadata": {},
     "output_type": "execute_result"
    }
   ],
   "source": [
    "obj1.parameter"
   ]
  },
  {
   "cell_type": "markdown",
   "metadata": {
    "slideshow": {
     "slide_type": "slide"
    }
   },
   "source": [
    "By setting the *class attribute* `self.parameter = parameter`, we make it accessible both anywhere within the scope of our class (even in other methods) as well as outside, as a dot-accessible attribute. Any variable otherwise created in any class method that doesn't have `self.` in front of it won't be accessible outside the class as an attribute. Notice we never make reference to `__init__()` when interacting with the object from the outside."
   ]
  },
  {
   "cell_type": "markdown",
   "metadata": {
    "slideshow": {
     "slide_type": "slide"
    }
   },
   "source": [
    "Let's move to a slightly more physical example:"
   ]
  },
  {
   "cell_type": "code",
   "execution_count": 16,
   "metadata": {
    "slideshow": {
     "slide_type": "fragment"
    }
   },
   "outputs": [],
   "source": [
    "class Body():\n",
    "    def __init__(self,name,mass,radius):\n",
    "        self.name = name\n",
    "        self.mass = mass\n",
    "        self.radius = radius"
   ]
  },
  {
   "cell_type": "code",
   "execution_count": 17,
   "metadata": {
    "slideshow": {
     "slide_type": "slide"
    }
   },
   "outputs": [],
   "source": [
    "import astropy.units as u\n",
    "sun = Body('Sun',1*u.Msun,1*u.Rsun)"
   ]
  },
  {
   "cell_type": "code",
   "execution_count": 18,
   "metadata": {
    "slideshow": {
     "slide_type": "fragment"
    }
   },
   "outputs": [
    {
     "data": {
      "text/latex": [
       "$1 \\; \\mathrm{M_{\\odot}}$"
      ],
      "text/plain": [
       "<Quantity 1. solMass>"
      ]
     },
     "execution_count": 18,
     "metadata": {},
     "output_type": "execute_result"
    }
   ],
   "source": [
    "sun.mass"
   ]
  },
  {
   "cell_type": "code",
   "execution_count": 19,
   "metadata": {},
   "outputs": [
    {
     "data": {
      "text/latex": [
       "$1 \\; \\mathrm{R_{\\odot}}$"
      ],
      "text/plain": [
       "<Quantity 1. solRad>"
      ]
     },
     "execution_count": 19,
     "metadata": {},
     "output_type": "execute_result"
    }
   ],
   "source": [
    "sun.radius"
   ]
  },
  {
   "cell_type": "markdown",
   "metadata": {
    "slideshow": {
     "slide_type": "slide"
    }
   },
   "source": [
    "Our new `Body` class takes the inputs to the initialization function and decides that they should immediately be class attributes (accessible anywhere in the class or outside, as demonstrated above.) \n",
    "\n",
    "We need not set every input to `__init__` to *be* a class attribute. For example, if a class reads in a string pointer to some `fits` file, we may load the file and then not care about having access to that input string anymore. "
   ]
  },
  {
   "cell_type": "markdown",
   "metadata": {
    "slideshow": {
     "slide_type": "slide"
    }
   },
   "source": [
    "## Creating Methods"
   ]
  },
  {
   "cell_type": "markdown",
   "metadata": {
    "slideshow": {
     "slide_type": "slide"
    }
   },
   "source": [
    "The init method just handles stuff we need to put into to the class to get it up and running. Let's define our first \"real\" method. "
   ]
  },
  {
   "cell_type": "code",
   "execution_count": 26,
   "metadata": {
    "slideshow": {
     "slide_type": "slide"
    }
   },
   "outputs": [],
   "source": [
    "class Body():\n",
    "    def __init__(self,name,mass,radius):\n",
    "        self.name = name\n",
    "        self.mass = mass\n",
    "        self.radius = radius\n",
    "    def calc_density(self):\n",
    "        vol = (4/3.) * np.pi * self.radius**3\n",
    "        return (self.mass / vol).to((u.g/u.cm**3))"
   ]
  },
  {
   "cell_type": "code",
   "execution_count": 27,
   "metadata": {
    "slideshow": {
     "slide_type": "slide"
    }
   },
   "outputs": [
    {
     "data": {
      "text/latex": [
       "$1.4097798 \\; \\mathrm{\\frac{g}{cm^{3}}}$"
      ],
      "text/plain": [
       "<Quantity 1.40977982 g / cm3>"
      ]
     },
     "execution_count": 27,
     "metadata": {},
     "output_type": "execute_result"
    }
   ],
   "source": [
    "sun = Body('Sun',1*u.Msun,1*u.Rsun)\n",
    "sun.calc_density()"
   ]
  },
  {
   "cell_type": "markdown",
   "metadata": {
    "slideshow": {
     "slide_type": "slide"
    }
   },
   "source": [
    "You may be thinking that we could, technically, define a class *attribute* called density since it depends only on the previously defined parameters. It's true that we could've done this, but, in this case, changing the mass attribute wouldn't propogate to the density. By forcing the calculation each time, we ensure that changes to the mass or radius then are reflected in a *query* of the density."
   ]
  },
  {
   "cell_type": "markdown",
   "metadata": {
    "slideshow": {
     "slide_type": "slide"
    }
   },
   "source": [
    "### Exercise\n",
    "\n",
    "Copy the class below, add an input attribute $x$, representing position. Assume it is a vector containing the x, y, z position of the object. \n",
    "Then, add a method to the class `calc_grav`, which takes as input another instance of a `Body` class, and uses its own position and mass, and the other body's position and mass, to calculate the force $F_{\\rm grav}$ between them via Newton's law. Create two bodies and test your methods!"
   ]
  },
  {
   "cell_type": "code",
   "execution_count": null,
   "metadata": {},
   "outputs": [],
   "source": [
    "class Body():\n",
    "    def __init__(self,mass,radius):\n",
    "        self.mass = mass\n",
    "        self.radius = radius\n",
    "    def calc_density(self):\n",
    "        vol = (4/3.) * np.pi * self.radius**3\n",
    "        return self.mass / vol"
   ]
  },
  {
   "cell_type": "markdown",
   "metadata": {
    "slideshow": {
     "slide_type": "slide"
    }
   },
   "source": [
    "# PSF Photometry"
   ]
  },
  {
   "cell_type": "markdown",
   "metadata": {
    "slideshow": {
     "slide_type": "slide"
    }
   },
   "source": [
    "We're all familiar (from 255) with aperture photometry. Aperture photometry sets a radius within which to sum the flux from some astronomical source. \n",
    "\n",
    "One question to ask when performing aperture photometry is what radius to choose. Too large, and you introduce noise from pixels that are sky. Too small, and you miss some flux from the actual star. \n",
    "\n",
    "We also know that the true \"point source\" of a star is spread out by the point spread function of the telescope/optics/detector. If we can *estimate* the shape (width) of the PSF in an image of sources, then we can construct a model which weights each pixel based on it's estimated fractional contribution to the stellar flux. Thus, pixels near the center of the stellar distribution are summed in full, while those near the edge are not included (or only just barely)."
   ]
  },
  {
   "cell_type": "markdown",
   "metadata": {
    "slideshow": {
     "slide_type": "slide"
    }
   },
   "source": [
    "To construct a pipeline that uses this technique, we'll need to \n",
    "\n",
    "- Read in an astronomical image with stars (and other point sources)\n",
    "- Perform the releant cleanings and calibrations to the image\n",
    "- Algorithmically locate the peaks (point sources) in the image, and carefully calculate their centers \n",
    "- Estimate the PSF and construct the normalized model\n",
    "- Multiply the weight model by each source and calculate the sum using a weighting formula (using cutouts and our known positions) \n"
   ]
  },
  {
   "cell_type": "markdown",
   "metadata": {
    "slideshow": {
     "slide_type": "fragment"
    }
   },
   "source": [
    "*Jamboard Discussion*: Based on the list above, discuss some reasons why moving to `classes` might be beneficial in trying to create such a pipeline. \n",
    "\n",
    "bit.ly/330jamboard"
   ]
  },
  {
   "cell_type": "markdown",
   "metadata": {
    "slideshow": {
     "slide_type": "slide"
    }
   },
   "source": [
    "### Formulas Needed "
   ]
  },
  {
   "cell_type": "markdown",
   "metadata": {
    "slideshow": {
     "slide_type": "slide"
    }
   },
   "source": [
    "**Centroid** \n",
    "\n",
    "$$\n",
    "x_{\\rm com} = \\frac{\\sum x_i \\hat{f}_i}{\\sum \\hat{f}_i}\n",
    "$$\n",
    "\n",
    "$$\n",
    "y_{\\rm com} = \\frac{\\sum y_i \\hat{f}_i}{\\sum \\hat{f}_i}\n",
    "$$\n",
    "\n",
    "where the $x_i$ are the pixel numbers and $\\hat{f}_i$ are the fluxes in those pixels. This formula amounts to a light weighted mean --- pixels with larger fluxes will push the mean toward their pixel value. (This is also just a center of mass formula). "
   ]
  },
  {
   "cell_type": "markdown",
   "metadata": {
    "slideshow": {
     "slide_type": "slide"
    }
   },
   "source": [
    "**2nd Moment** \n",
    "\n",
    "The centroid is the first moment of the light distribution. The second moment gives us an estimate of the width of a distribution. (To use stats terms, a mean is a first moment measurement, the standard deviation is a second moment measurement). \n",
    "\n",
    "We will use the following formulas in the lab to determine the x and y widths of distributions: \n",
    "\n",
    "$$\n",
    "\\sigma_x = \\left[\\frac{\\sum x_i^2 \\hat{f}_i}{\\sum \\hat{f}_i} - x_{\\rm com}^2\\right]^{1/2}\n",
    "$$\n",
    "\n",
    "$$\n",
    "\\sigma_y = \\left[\\frac{\\sum y_i^2 \\hat{f}_i}{\\sum \\hat{f}_i} - y_{\\rm com}^2\\right]^{1/2}\n",
    "$$"
   ]
  },
  {
   "cell_type": "markdown",
   "metadata": {
    "slideshow": {
     "slide_type": "slide"
    }
   },
   "source": [
    "**PSF Photometry** \n",
    "\n",
    "Finally, the actual step of PSF photometry is performed via \n",
    "\n",
    "$$\n",
    "f_{\\rm PSF} = \\frac{\\sum \\hat{f_i} p_i}{\\sum p_i^2},\n",
    "$$\n",
    "\n",
    "where $\\hat{f}_i$ are our pixel fluxes from before, and $p_i$ is our model for the PSF. One can model the 2D PSF with several functional forms. The Moffat profile is one of the closest matches to real stars, but it requires more than one shape parameter. Since our second moment only gives us one, we'll use a 2D Gaussian in the lab."
   ]
  }
 ],
 "metadata": {
  "kernelspec": {
   "display_name": "a330",
   "language": "python",
   "name": "a330"
  },
  "language_info": {
   "codemirror_mode": {
    "name": "ipython",
    "version": 3
   },
   "file_extension": ".py",
   "mimetype": "text/x-python",
   "name": "python",
   "nbconvert_exporter": "python",
   "pygments_lexer": "ipython3",
   "version": "3.8.11"
  }
 },
 "nbformat": 4,
 "nbformat_minor": 4
}
