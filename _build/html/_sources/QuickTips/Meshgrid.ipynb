{
 "cells": [
  {
   "cell_type": "markdown",
   "metadata": {},
   "source": [
    "# Meshgrid \n",
    "\n",
    "Meshgrid is an incredibly useful, but conceptually somewhat challenging function to learn. If you think you're alone in being confused by how or when to use it [you're not.](https://stackoverflow.com/questions/36013063/what-is-the-purpose-of-meshgrid-in-python-numpy) That question on StackOverflow has over 240,000 views, and is only one of hundreds asking about meshgrid. \n",
    "\n",
    "That said, it is a tool that *very often* saves us the use of a loop *as a direct outcome* of its use. Thus, when we want to write simple, efficient, and fast(er) code, it can be the cure to many bottlenecks. \n",
    "\n",
    "In this Quick Tip, I will attempt to elucidate the use of this function using the example of finding the centroid (in $x$ and $y$) of a 2 dimensional image. \n",
    "\n",
    "## The Setup \n",
    "\n",
    "Let's say I have a 2D image that contains a star. We have some \"nominal\" position for the star, namely, the pixel (x,y) that contains the most flux (we probably found the star by looking for peaks). \n",
    "\n",
    "Our star, for which I'll assert the peak coordinates are (326, 312) looks something like this:"
   ]
  },
  {
   "cell_type": "code",
   "execution_count": 15,
   "metadata": {},
   "outputs": [
    {
     "data": {
      "image/png": "[encoded data removed]",
      "text/plain": [
       "<Figure size 576x576 with 1 Axes>"
      ]
     },
     "metadata": {
      "needs_background": "light"
     },
     "output_type": "display_data"
    }
   ],
   "source": [
    "import numpy as np\n",
    "import matplotlib.pyplot as plt\n",
    "im = np.load('cutout.npy')\n",
    "fig, ax = plt.subplots(figsize=(8,8))\n",
    "ax.imshow(im,origin='lower',extent=[316,336,302,322],vmin=0,vmax=7000)\n",
    "ax.plot(326.5,312.5,'rx',ms=10);"
   ]
  },
  {
   "cell_type": "markdown",
   "metadata": {},
   "source": [
    "Where I've loaded in a cutout, and marked the pixel marked as the peak. We're going to calculate the centroid (center of light) using the formulas \n",
    "\n",
    "$$\n",
    "x_{\\rm com} = \\frac{\\sum x_i \\hat{f}_i}{\\sum\\hat{f}_i}\n",
    "$$\n",
    "\n",
    "$$\n",
    "y_{\\rm com} = \\frac{\\sum y_i \\hat{f}_i}{\\sum\\hat{f}_i}\n",
    "$$"
   ]
  },
  {
   "cell_type": "markdown",
   "metadata": {},
   "source": [
    "Our initial inclination, seeing sums, is to write a for-loop that looks like this:"
   ]
  },
  {
   "cell_type": "code",
   "execution_count": 17,
   "metadata": {},
   "outputs": [],
   "source": [
    "total_flux = 0\n",
    "x_numerator = 0\n",
    "y_numerator = 0\n",
    "for i in np.arange(im.shape[0]): #these are the y values\n",
    "    for j in np.arange(im.shape[1]): #these are the x values\n",
    "        actual_x = j + 316\n",
    "        actual_y = i + 302\n",
    "        total_flux += im[i,j]\n",
    "        x_numerator += im[i,j]*actual_x\n",
    "        y_numerator += im[i,j]*actual_y\n",
    "x_com = x_numerator / total_flux\n",
    "y_com = y_numerator / total_flux"
   ]
  },
  {
   "cell_type": "code",
   "execution_count": 18,
   "metadata": {},
   "outputs": [
    {
     "name": "stdout",
     "output_type": "stream",
     "text": [
      "326.1555217344145 311.375121173322\n"
     ]
    }
   ],
   "source": [
    "print(x_com,y_com)"
   ]
  },
  {
   "cell_type": "markdown",
   "metadata": {},
   "source": [
    "The above solution works. For each pixel in the image (fully looping), we first determine the x or y value at that location (adding the actual left and bottom location to our indexing), then perform the multiplication of $\\hat{f}_ix_i$ and add it to our running sums outside. \n",
    "\n",
    "The issue with this solution is it is very slow to loop over every pixel... especially *when we don't have to!* \n",
    "\n",
    "## Using Meshgrid Instead \n",
    "\n",
    "For a solution to these formulas to not require any looping, we need to be able to muliply our entire cutout image by another array of the same shape. So what we need is, in the case of $x$, an array that contains as its values the x coordinate at that location. That means that each column of this array will contain a single number. For $y$ we want the opposite; we want the pixels in each row to contain the y value of that row (so each row is all the same number). \n",
    "\n",
    "Notice that if we had arrays that look like this, when we muliply the full array, `im` by one of these arrays, we'll get an array of the same shape with the pixel by pixel multiplication between the two. For example:"
   ]
  },
  {
   "cell_type": "code",
   "execution_count": 19,
   "metadata": {},
   "outputs": [],
   "source": [
    "a = np.array([[1,2,3],\n",
    "              [4,5,6],\n",
    "              [7,8,9]])\n",
    "\n",
    "b = np.array([[1,2,3],\n",
    "              [1,2,3],\n",
    "              [1,2,3]])              \n",
    "c = np.array([[1,1,1],\n",
    "              [2,2,2],\n",
    "              [3,3,3]]) \n",
    "\n",
    "ab = a*b \n",
    "ac = a*c"
   ]
  },
  {
   "cell_type": "code",
   "execution_count": 20,
   "metadata": {},
   "outputs": [
    {
     "data": {
      "text/plain": [
       "array([[ 1,  4,  9],\n",
       "       [ 4, 10, 18],\n",
       "       [ 7, 16, 27]])"
      ]
     },
     "execution_count": 20,
     "metadata": {},
     "output_type": "execute_result"
    }
   ],
   "source": [
    "ab"
   ]
  },
  {
   "cell_type": "code",
   "execution_count": 21,
   "metadata": {},
   "outputs": [
    {
     "data": {
      "text/plain": [
       "array([[ 1,  2,  3],\n",
       "       [ 8, 10, 12],\n",
       "       [21, 24, 27]])"
      ]
     },
     "execution_count": 21,
     "metadata": {},
     "output_type": "execute_result"
    }
   ],
   "source": [
    "ac"
   ]
  },
  {
   "cell_type": "markdown",
   "metadata": {},
   "source": [
    "Notice that in the above example, if `a` were my fluxes, then `b` and `c`, when multiplied by `a`, produce outputs that look like $\\hat{f}_i x_i$ and $\\hat{f}_i y_i$. Meaning to carry out the *sum* indicated in the formulas, we can simply"
   ]
  },
  {
   "cell_type": "code",
   "execution_count": 22,
   "metadata": {},
   "outputs": [
    {
     "data": {
      "text/plain": [
       "96"
      ]
     },
     "execution_count": 22,
     "metadata": {},
     "output_type": "execute_result"
    }
   ],
   "source": [
    "np.sum(ab)"
   ]
  },
  {
   "cell_type": "code",
   "execution_count": 23,
   "metadata": {},
   "outputs": [
    {
     "data": {
      "text/plain": [
       "108"
      ]
     },
     "execution_count": 23,
     "metadata": {},
     "output_type": "execute_result"
    }
   ],
   "source": [
    "np.sum(ac)"
   ]
  },
  {
   "cell_type": "markdown",
   "metadata": {},
   "source": [
    "And thus, our formula reduces to a single line:"
   ]
  },
  {
   "cell_type": "code",
   "execution_count": 24,
   "metadata": {},
   "outputs": [],
   "source": [
    "a_comx = np.sum(a*b)/np.sum(a)\n",
    "a_comy = np.sum(a*c)/np.sum(a)"
   ]
  },
  {
   "cell_type": "markdown",
   "metadata": {},
   "source": [
    "Once you understand what's happening above, we can move into the application to our actual image. \n",
    "\n",
    "Because I have a cutout already (rather than a full image), I don't need to index `image` below. But if you had a full image, you'd index it over the same ranged defined in the `x_range` and `y_range` below."
   ]
  },
  {
   "cell_type": "code",
   "execution_count": 26,
   "metadata": {},
   "outputs": [],
   "source": [
    "def centroid(image,peak_x,peak_y,N):\n",
    "    '''\n",
    "    Return the x and y centroid of an input image, calculated within some window.\n",
    "    \n",
    "    Parameters\n",
    "    ----------\n",
    "    image: array_like\n",
    "        image to be centroided. \n",
    "    peak_x: int\n",
    "        x coordinate of pixel containing the peak flux. Used as a central point to define the window\n",
    "    peak_y: int\n",
    "        y coordinate of pixel containing the peak flux. Used as a central point to define the window\n",
    "    N: int\n",
    "        window size. The centroid will be calculated in a region +/- N pixels about the peak pixel\n",
    "    '''\n",
    "    x_range = np.arange(peak_x-N,peak_x+N)\n",
    "    y_range = np.arange(peak_y-N,peak_y+N)\n",
    "    \n",
    "\n",
    "    xx, yy = np.meshgrid(x_range,y_range) # This is the key line. We now have 2D arrays, size 2N by 2N, where each column of xx has the x value, and row of yy has the y value. \n",
    "    \n",
    "    x_com = np.sum(image*xx)/np.sum(image)\n",
    "    y_com = np.sum(image*yy)/np.sum(image)\n",
    "    return x_com, y_com"
   ]
  },
  {
   "cell_type": "code",
   "execution_count": 39,
   "metadata": {},
   "outputs": [
    {
     "name": "stdout",
     "output_type": "stream",
     "text": [
      "326.15552173441495 311.3751211733219\n"
     ]
    }
   ],
   "source": [
    "x_com, y_com = centroid(im,326,312,N=10)\n",
    "print(x_com,y_com)"
   ]
  },
  {
   "cell_type": "code",
   "execution_count": null,
   "metadata": {},
   "outputs": [],
   "source": []
  },
  {
   "cell_type": "markdown",
   "metadata": {},
   "source": [
    "Notice that we get precisely the same answer as before. However, I can promise that the second solution will scale much more elegantly with large numbers of images or large numbers of pixels. \n",
    "\n",
    "Let's time it:"
   ]
  },
  {
   "cell_type": "code",
   "execution_count": 28,
   "metadata": {},
   "outputs": [
    {
     "name": "stdout",
     "output_type": "stream",
     "text": [
      "50 µs ± 2.53 µs per loop (mean ± std. dev. of 7 runs, 10000 loops each)\n"
     ]
    }
   ],
   "source": [
    "%%timeit \n",
    "\n",
    "centroid(im,326,312,N=10)"
   ]
  },
  {
   "cell_type": "code",
   "execution_count": 29,
   "metadata": {},
   "outputs": [],
   "source": [
    "def centroid_looping(im):\n",
    "    total_flux = 0\n",
    "    x_numerator = 0\n",
    "    y_numerator = 0\n",
    "    for i in np.arange(im.shape[0]): #these are the y values\n",
    "        for j in np.arange(im.shape[1]): #these are the x values\n",
    "            actual_x = j + 316\n",
    "            actual_y = i + 302\n",
    "            total_flux += im[i,j]\n",
    "            x_numerator += im[i,j]*actual_x\n",
    "            y_numerator += im[i,j]*actual_y\n",
    "    x_com = x_numerator / total_flux\n",
    "    y_com = y_numerator / total_flux\n",
    "    return x_com, y_com"
   ]
  },
  {
   "cell_type": "code",
   "execution_count": 30,
   "metadata": {},
   "outputs": [
    {
     "name": "stdout",
     "output_type": "stream",
     "text": [
      "439 µs ± 24.6 µs per loop (mean ± std. dev. of 7 runs, 1000 loops each)\n"
     ]
    }
   ],
   "source": [
    "%%timeit \n",
    "\n",
    "centroid_looping(im)"
   ]
  },
  {
   "cell_type": "code",
   "execution_count": 31,
   "metadata": {},
   "outputs": [
    {
     "data": {
      "text/plain": [
       "8.78"
      ]
     },
     "execution_count": 31,
     "metadata": {},
     "output_type": "execute_result"
    }
   ],
   "source": [
    "439/50"
   ]
  },
  {
   "cell_type": "markdown",
   "metadata": {},
   "source": [
    "Even on a cutout this small, the vectorized solution is a factor of ~9 faster. In a case where we have a big enough image or set of images to where the vector-centroid pipeline takes an hour to run, the other solution would take all day!"
   ]
  },
  {
   "cell_type": "markdown",
   "metadata": {},
   "source": [
    "To elucidate explicitly what we created, let's actually print our meshgrid. To save space, I'm going to only show the first 10 columns and rows for each."
   ]
  },
  {
   "cell_type": "code",
   "execution_count": 32,
   "metadata": {},
   "outputs": [],
   "source": [
    "peak_x = 326\n",
    "peak_y = 312\n",
    "N=10\n",
    "x_range = np.arange(peak_x-N,peak_x+N)\n",
    "y_range = np.arange(peak_y-N,peak_y+N)\n",
    "\n",
    "xx, yy = np.meshgrid(x_range,y_range)"
   ]
  },
  {
   "cell_type": "code",
   "execution_count": 37,
   "metadata": {},
   "outputs": [
    {
     "data": {
      "text/plain": [
       "array([[316, 317, 318, 319, 320, 321, 322, 323, 324, 325],\n",
       "       [316, 317, 318, 319, 320, 321, 322, 323, 324, 325],\n",
       "       [316, 317, 318, 319, 320, 321, 322, 323, 324, 325],\n",
       "       [316, 317, 318, 319, 320, 321, 322, 323, 324, 325],\n",
       "       [316, 317, 318, 319, 320, 321, 322, 323, 324, 325],\n",
       "       [316, 317, 318, 319, 320, 321, 322, 323, 324, 325],\n",
       "       [316, 317, 318, 319, 320, 321, 322, 323, 324, 325],\n",
       "       [316, 317, 318, 319, 320, 321, 322, 323, 324, 325],\n",
       "       [316, 317, 318, 319, 320, 321, 322, 323, 324, 325],\n",
       "       [316, 317, 318, 319, 320, 321, 322, 323, 324, 325]])"
      ]
     },
     "execution_count": 37,
     "metadata": {},
     "output_type": "execute_result"
    }
   ],
   "source": [
    "xx[:10,:10]"
   ]
  },
  {
   "cell_type": "code",
   "execution_count": 38,
   "metadata": {},
   "outputs": [
    {
     "data": {
      "text/plain": [
       "array([[302, 302, 302, 302, 302, 302, 302, 302, 302, 302],\n",
       "       [303, 303, 303, 303, 303, 303, 303, 303, 303, 303],\n",
       "       [304, 304, 304, 304, 304, 304, 304, 304, 304, 304],\n",
       "       [305, 305, 305, 305, 305, 305, 305, 305, 305, 305],\n",
       "       [306, 306, 306, 306, 306, 306, 306, 306, 306, 306],\n",
       "       [307, 307, 307, 307, 307, 307, 307, 307, 307, 307],\n",
       "       [308, 308, 308, 308, 308, 308, 308, 308, 308, 308],\n",
       "       [309, 309, 309, 309, 309, 309, 309, 309, 309, 309],\n",
       "       [310, 310, 310, 310, 310, 310, 310, 310, 310, 310],\n",
       "       [311, 311, 311, 311, 311, 311, 311, 311, 311, 311]])"
      ]
     },
     "execution_count": 38,
     "metadata": {},
     "output_type": "execute_result"
    }
   ],
   "source": [
    "yy[:10,:10]"
   ]
  },
  {
   "cell_type": "markdown",
   "metadata": {},
   "source": [
    "As expected, for the range of values defined by the `x_range` and `y_range`, each column of xx is defined by it's own x, each row of yy is defined by it's value of y. \n",
    "\n",
    "Hopefully now it is clear that if I multiply an image of fluxes by xx, then the first pixel of my output array would be the flux in pixel 0, times 316. The output of the pizel to the right would be the flux of *that* pixel times 317, and so on.\n",
    "\n",
    "As a final close, let's compare the location returned by our `centroid` function with the location of the peak flux:"
   ]
  },
  {
   "cell_type": "code",
   "execution_count": 45,
   "metadata": {},
   "outputs": [
    {
     "data": {
      "image/png": "[encoded data removed]",
      "text/plain": [
       "<Figure size 576x576 with 1 Axes>"
      ]
     },
     "metadata": {
      "needs_background": "light"
     },
     "output_type": "display_data"
    }
   ],
   "source": [
    "fig, ax = plt.subplots(figsize=(8,8))\n",
    "ax.imshow(im,origin='lower',extent=[316,336,302,322],vmin=0,vmax=5000)\n",
    "ax.plot(326.5,312.5,'rx',ms=10)\n",
    "ax.axvline(x_com)\n",
    "ax.axhline(y_com);"
   ]
  },
  {
   "cell_type": "markdown",
   "metadata": {},
   "source": [
    "## Summary \n",
    "\n",
    "It is hard to actually overstate how useful `meshgrid` can be in certain situations. Anytime we want to evaluate something across a grid of locations, essentially, we can probably use meshgrid to make it happen quickly and efficiently. \n",
    "\n",
    "Hope this was useful!"
   ]
  },
  {
   "cell_type": "code",
   "execution_count": null,
   "metadata": {},
   "outputs": [],
   "source": []
  }
 ],
 "metadata": {
  "kernelspec": {
   "display_name": "a330",
   "language": "python",
   "name": "a330"
  },
  "language_info": {
   "codemirror_mode": {
    "name": "ipython",
    "version": 3
   },
   "file_extension": ".py",
   "mimetype": "text/x-python",
   "name": "python",
   "nbconvert_exporter": "python",
   "pygments_lexer": "ipython3",
   "version": "3.8.11"
  }
 },
 "nbformat": 4,
 "nbformat_minor": 4
}
