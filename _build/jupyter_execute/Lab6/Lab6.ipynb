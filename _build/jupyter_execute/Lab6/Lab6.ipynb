{
 "cells": [
  {
   "cell_type": "markdown",
   "metadata": {},
   "source": [
    "# Lab 6: Pandas"
   ]
  },
  {
   "cell_type": "markdown",
   "metadata": {},
   "source": [
    "In this lab, we'll work through some of the basics of using Pandas, using a few different tabular data sets. Ultimately, one need not do anything particularly fancy with DataFrames for them to be useful as data containers. But we would like to highlight a few extra abilities these objects have, that illustrate situations where we may actually have a strong reason to use pandas over another library. "
   ]
  },
  {
   "cell_type": "markdown",
   "metadata": {},
   "source": [
    "## Problem 1: HII regions + Planetary Nebulae measurements in M81\n",
    "\n",
    "For our first data set, we're going to look at a file (`table2.dat`), which contains measurements of the flux and intensity of various ions' line emission from a set of known emitting objects (PNs and HII regions) in the M81 galaxy. \n",
    "\n",
    "The columns of this file are `name`, `ion`, `wl`, `flux`, and `I` (intensity). Two of the columns are string-valued (name and ion), three are numerical-values (wl, flux, I). This mix of strings and floats tells us before we even decide how to read in this file that `numpy` data structures won't be usable, as they demand all values in an array to have the same `dtype`. \n",
    "\n",
    "### Problem 1.1 \n",
    "\n",
    "Using the `pd.read_csv()` function shown in the lecture, read this data file into a dataframe called `df`, and print it. \n",
    "```{hint}\n",
    "You can get a \"pretty\" visualization of a dataframe by simply typing its name into a jupyter cell -- as long as it's the last line of the cell, the dataframe will print more nicely than typing `print(df)`. This does not work outside of notebooks.\n",
    "```"
   ]
  },
  {
   "cell_type": "code",
   "execution_count": 83,
   "metadata": {},
   "outputs": [],
   "source": [
    "import numpy as np\n",
    "import matplotlib.pyplot as plt\n",
    "import pandas as pd\n",
    "%matplotlib inline \n"
   ]
  },
  {
   "cell_type": "code",
   "execution_count": null,
   "metadata": {},
   "outputs": [],
   "source": []
  },
  {
   "cell_type": "markdown",
   "metadata": {},
   "source": [
    "### Problem 1.2 \n",
    "\n",
    "Though it doesn't show up in the clean representation above, the strings associated with the name and ion columns above have trailing and leading spaces that we don't want. \n",
    "\n",
    "Use a *list comprehension* to modify the data frame such that each value in the name and ion columns are replaced with a `.strip()` version of themselves."
   ]
  },
  {
   "cell_type": "code",
   "execution_count": 12,
   "metadata": {},
   "outputs": [],
   "source": []
  },
  {
   "cell_type": "markdown",
   "metadata": {},
   "source": [
    "### Problem 1.3 \n",
    "\n",
    "Write a function `select_object` which takes in as an argument the name of an HII region or planetrary nebula, and filters the dataframe for only the entries for that object using `df.loc[]`. Consider having the dataframe be an optional argument you set to `df`, the dataframe we are \n",
    "working with.\n",
    "\n",
    "Have your function take in an optional argument `drop_empty=True` which additionally selects only those rows where the flux/intensity is **not** zero."
   ]
  },
  {
   "cell_type": "code",
   "execution_count": 14,
   "metadata": {},
   "outputs": [],
   "source": []
  },
  {
   "cell_type": "code",
   "execution_count": 15,
   "metadata": {},
   "outputs": [
    {
     "data": {
      "text/html": [
       "<div>\n",
       "<style scoped>\n",
       "    .dataframe tbody tr th:only-of-type {\n",
       "        vertical-align: middle;\n",
       "    }\n",
       "\n",
       "    .dataframe tbody tr th {\n",
       "        vertical-align: top;\n",
       "    }\n",
       "\n",
       "    .dataframe thead th {\n",
       "        text-align: right;\n",
       "    }\n",
       "</style>\n",
       "<table border=\"1\" class=\"dataframe\">\n",
       "  <thead>\n",
       "    <tr style=\"text-align: right;\">\n",
       "      <th></th>\n",
       "      <th>name</th>\n",
       "      <th>ion</th>\n",
       "      <th>wl</th>\n",
       "      <th>flux</th>\n",
       "      <th>rms</th>\n",
       "      <th>I</th>\n",
       "    </tr>\n",
       "  </thead>\n",
       "  <tbody>\n",
       "    <tr>\n",
       "      <th>0</th>\n",
       "      <td>PN3m</td>\n",
       "      <td>[OII]</td>\n",
       "      <td>3727</td>\n",
       "      <td>373.9</td>\n",
       "      <td>58.6</td>\n",
       "      <td>517.3</td>\n",
       "    </tr>\n",
       "    <tr>\n",
       "      <th>8</th>\n",
       "      <td>PN3m</td>\n",
       "      <td>HI</td>\n",
       "      <td>4340</td>\n",
       "      <td>50.0</td>\n",
       "      <td>3.5</td>\n",
       "      <td>58.0</td>\n",
       "    </tr>\n",
       "    <tr>\n",
       "      <th>15</th>\n",
       "      <td>PN3m</td>\n",
       "      <td>HI</td>\n",
       "      <td>4861</td>\n",
       "      <td>100.0</td>\n",
       "      <td>4.5</td>\n",
       "      <td>100.0</td>\n",
       "    </tr>\n",
       "    <tr>\n",
       "      <th>16</th>\n",
       "      <td>PN3m</td>\n",
       "      <td>[OIII]</td>\n",
       "      <td>4959</td>\n",
       "      <td>35.4</td>\n",
       "      <td>3.8</td>\n",
       "      <td>34.4</td>\n",
       "    </tr>\n",
       "    <tr>\n",
       "      <th>17</th>\n",
       "      <td>PN3m</td>\n",
       "      <td>[OIII]</td>\n",
       "      <td>5007</td>\n",
       "      <td>104.2</td>\n",
       "      <td>5.2</td>\n",
       "      <td>99.9</td>\n",
       "    </tr>\n",
       "    <tr>\n",
       "      <th>19</th>\n",
       "      <td>PN3m</td>\n",
       "      <td>[NII]</td>\n",
       "      <td>5755</td>\n",
       "      <td>1.3</td>\n",
       "      <td>0.3</td>\n",
       "      <td>1.1</td>\n",
       "    </tr>\n",
       "    <tr>\n",
       "      <th>20</th>\n",
       "      <td>PN3m</td>\n",
       "      <td>HeI</td>\n",
       "      <td>5876</td>\n",
       "      <td>9.1</td>\n",
       "      <td>0.3</td>\n",
       "      <td>7.2</td>\n",
       "    </tr>\n",
       "    <tr>\n",
       "      <th>24</th>\n",
       "      <td>PN3m</td>\n",
       "      <td>[NII]</td>\n",
       "      <td>6548</td>\n",
       "      <td>59.8</td>\n",
       "      <td>3.5</td>\n",
       "      <td>42.2</td>\n",
       "    </tr>\n",
       "    <tr>\n",
       "      <th>25</th>\n",
       "      <td>PN3m</td>\n",
       "      <td>HI</td>\n",
       "      <td>6563</td>\n",
       "      <td>412.0</td>\n",
       "      <td>6.9</td>\n",
       "      <td>290.1</td>\n",
       "    </tr>\n",
       "    <tr>\n",
       "      <th>26</th>\n",
       "      <td>PN3m</td>\n",
       "      <td>[NII]</td>\n",
       "      <td>6584</td>\n",
       "      <td>142.5</td>\n",
       "      <td>4.5</td>\n",
       "      <td>100.0</td>\n",
       "    </tr>\n",
       "    <tr>\n",
       "      <th>28</th>\n",
       "      <td>PN3m</td>\n",
       "      <td>[SII]</td>\n",
       "      <td>6717</td>\n",
       "      <td>60.3</td>\n",
       "      <td>3.8</td>\n",
       "      <td>41.4</td>\n",
       "    </tr>\n",
       "    <tr>\n",
       "      <th>29</th>\n",
       "      <td>PN3m</td>\n",
       "      <td>[SII]</td>\n",
       "      <td>6731</td>\n",
       "      <td>44.3</td>\n",
       "      <td>3.4</td>\n",
       "      <td>30.4</td>\n",
       "    </tr>\n",
       "  </tbody>\n",
       "</table>\n",
       "</div>"
      ],
      "text/plain": [
       "    name     ion    wl   flux   rms      I\n",
       "0   PN3m   [OII]  3727  373.9  58.6  517.3\n",
       "8   PN3m      HI  4340   50.0   3.5   58.0\n",
       "15  PN3m      HI  4861  100.0   4.5  100.0\n",
       "16  PN3m  [OIII]  4959   35.4   3.8   34.4\n",
       "17  PN3m  [OIII]  5007  104.2   5.2   99.9\n",
       "19  PN3m   [NII]  5755    1.3   0.3    1.1\n",
       "20  PN3m     HeI  5876    9.1   0.3    7.2\n",
       "24  PN3m   [NII]  6548   59.8   3.5   42.2\n",
       "25  PN3m      HI  6563  412.0   6.9  290.1\n",
       "26  PN3m   [NII]  6584  142.5   4.5  100.0\n",
       "28  PN3m   [SII]  6717   60.3   3.8   41.4\n",
       "29  PN3m   [SII]  6731   44.3   3.4   30.4"
      ]
     },
     "execution_count": 15,
     "metadata": {},
     "output_type": "execute_result"
    }
   ],
   "source": [
    "# Your function should produce the following "
   ]
  },
  {
   "cell_type": "markdown",
   "metadata": {},
   "source": [
    "### Problem 1.4 \n",
    "\n",
    "Write a function `select_ion_by_wavelength()` which takes in the name of an ion and its wavelength (and a dataframe), and returns the filtered data frame for all objects, but only ions for the selected wavelengths. \n",
    "\n",
    "As before, have a `drop_empty` optional argument to not include entries where the flux and intensity are zero.\n",
    "\n",
    "Additionally, as the index is now uniquely identified by the name of the PN/HII region, set the index to be the name column."
   ]
  },
  {
   "cell_type": "code",
   "execution_count": 26,
   "metadata": {},
   "outputs": [],
   "source": []
  },
  {
   "cell_type": "code",
   "execution_count": null,
   "metadata": {},
   "outputs": [],
   "source": []
  },
  {
   "cell_type": "markdown",
   "metadata": {},
   "source": [
    "### Problem 1.5\n",
    "It will be helpful to know for a given ion which wavelengths are avalable and have data in the dataframe. Write a function `get_wavelenghs_by_ion()` that determines for a given input ion, which wavelengths are available. \n",
    "\n",
    "**Bonus + 0.5: Some ions of forbidden transitions like `[OII]` have brackets in the name. Add a bit to your get_wavelengths_by_ion code that allows the user to enter either `\"[OII]\"` or `\"OII\"` and get the same answer.**\n",
    "\n",
    "Additionally, make a convenience function `get_ions()` that just returns the full list of ions represented in the dataframe.\n",
    "\n",
    "```{hint}\n",
    "The `.unique()` method in pandas will be useful here.\n",
    "```\n",
    "\n",
    "**Show that your function works by selecting the wavelengths for `[NII]` and `[OII]`.**"
   ]
  },
  {
   "cell_type": "code",
   "execution_count": null,
   "metadata": {},
   "outputs": [],
   "source": []
  },
  {
   "cell_type": "code",
   "execution_count": 22,
   "metadata": {},
   "outputs": [
    {
     "data": {
      "text/plain": [
       "array(['[OII]', 'HeI', 'HI', '[NeIII]', '[NeIII]/HI', '[SII]', '[OIII]',\n",
       "       'HeII', 'HeI/[ArIV]', '[ArIV]', '[NII]', '[OI]', '[SIII]', '[ArV]',\n",
       "       '[ArIII]'], dtype=object)"
      ]
     },
     "execution_count": 22,
     "metadata": {},
     "output_type": "execute_result"
    }
   ],
   "source": [
    "# Your function should produce the following "
   ]
  },
  {
   "cell_type": "code",
   "execution_count": 250,
   "metadata": {},
   "outputs": [],
   "source": [
    "# Show [NII]"
   ]
  },
  {
   "cell_type": "code",
   "execution_count": 251,
   "metadata": {},
   "outputs": [],
   "source": [
    "# Show [OII]"
   ]
  },
  {
   "cell_type": "markdown",
   "metadata": {},
   "source": [
    "### Problem 1.6 \n",
    "\n",
    "Rather than having all these convenience functions littered around our code, let's go ahead and make a class, `FluxTable`, which initializes with our dataframe, and then has all of the functions created above as methods. The input DataFrame, `df`, should be accessible as an attribute as well. \n",
    "\n",
    "When you're done, you should be able to do something like the following \n",
    "```\n",
    "ions = FluxTable(df)\n",
    "print(ions.df)\n",
    "ions.get_ions()\n",
    "ions.get_wavelengths_by_ions('[OII]')\n",
    "PN3m = ions.select_object('PN3m')\n",
    "```"
   ]
  },
  {
   "cell_type": "code",
   "execution_count": 29,
   "metadata": {},
   "outputs": [],
   "source": [
    "# Your Class Here"
   ]
  },
  {
   "cell_type": "markdown",
   "metadata": {},
   "source": [
    "**Show that your class works by running the above examples.**"
   ]
  },
  {
   "cell_type": "code",
   "execution_count": 253,
   "metadata": {},
   "outputs": [],
   "source": [
    "# Run Get ions"
   ]
  },
  {
   "cell_type": "markdown",
   "metadata": {},
   "source": [
    "### Bonus: (+1) Problem 1.7 \n",
    "\n",
    "Finally, let's add one final method to our class. This method will be called `query`, and it will act as a bit of a \"catch all\", allowing the user to query for certain conditions as desired. \n",
    "\n",
    "Your `query` method should take as it's primary argument a string containing a comma separated list of desired columns. It should then have optional arguments for `name`, `ion`, and `wl`, which are by default set to `None`. For name and ion, the goal is to allow the user to specify specific ones. For `wl`, we'll go one step further and allow either a specific wavelength, or a range of wavelengths input as a string of the form `>4343` or `<3050` or `2010-5000`. \n",
    "\n",
    "The usage of this method will look something like \n",
    "\n",
    "```\n",
    "ft.query('name,flux',ion='[OII]',wl='3000-5000')\n",
    "```\n",
    "\n",
    "You will of course need to do some string checking (particularly with wl) to figure out what the user wants, and then you can use your filtering methods you already wrote to successfully construct a result dataframe to return."
   ]
  },
  {
   "cell_type": "code",
   "execution_count": null,
   "metadata": {},
   "outputs": [],
   "source": []
  },
  {
   "cell_type": "markdown",
   "metadata": {},
   "source": [
    "## Problem 2\n",
    "\n",
    "In this problem, we're going to use the [3DHST catalog](https://archive.stsci.edu/prepds/3d-hst/), which contains numerous measurements of galaxies at high redshift taken with HST. This program was led at Yale(!) and the \"3D\" refers to the fact that beyond just imaging, spectroscopic information was also obtained.  \n",
    "\n",
    "We'll be using a subset of the catalog set up for the GOODS-South field, a well studied patch of the sky. The data are split across four `fits` files -- but we'll be using `pandas` to join them together! \n",
    "\n",
    "- the `.cat` file contains the primary catalog \n",
    "- the `.fout` file contains the output of `FAST`, a quick template fitting program for galaxies. \n",
    "- the `.RF` file contains the Rest Frame (de-redshifted) colors of the galaxies in common bands\n",
    "- the `.zout` file contains redshift estimates for all galaxies (either spec-z or photo-z) made using the EAZY redshift fitting code (also Yale!) \n",
    "\n",
    "### Problem 2.1\n",
    "\n",
    "**Load the four datasets into Python, and create dataframes for each.** For ease of following the solutions, we suggest you name these\n",
    "\n",
    "- `cat_df` for the catalog\n",
    "- `fast_df` for the fast output\n",
    "- `rf_df` for the RF file \n",
    "- `z_df` for the redshifts\n",
    "\n",
    "**Examine each of these dataframes to see what types of columns they have.**\n",
    "\n",
    "```{hint}\n",
    "Remember that the default extension for tabular data (as this is) will be 1, not 0 as we are used to for images. You can run pd.DataFrame() directly on the data attribute of this extension\n",
    "```"
   ]
  },
  {
   "cell_type": "code",
   "execution_count": 35,
   "metadata": {},
   "outputs": [],
   "source": [
    "from astropy.io import fits"
   ]
  },
  {
   "cell_type": "code",
   "execution_count": 39,
   "metadata": {},
   "outputs": [],
   "source": [
    "# create cat_df "
   ]
  },
  {
   "cell_type": "code",
   "execution_count": 42,
   "metadata": {},
   "outputs": [
    {
     "data": {
      "text/html": [
       "<div>\n",
       "<style scoped>\n",
       "    .dataframe tbody tr th:only-of-type {\n",
       "        vertical-align: middle;\n",
       "    }\n",
       "\n",
       "    .dataframe tbody tr th {\n",
       "        vertical-align: top;\n",
       "    }\n",
       "\n",
       "    .dataframe thead th {\n",
       "        text-align: right;\n",
       "    }\n",
       "</style>\n",
       "<table border=\"1\" class=\"dataframe\">\n",
       "  <thead>\n",
       "    <tr style=\"text-align: right;\">\n",
       "      <th></th>\n",
       "      <th>id</th>\n",
       "      <th>x</th>\n",
       "      <th>y</th>\n",
       "      <th>ra</th>\n",
       "      <th>dec</th>\n",
       "      <th>faper_f160w</th>\n",
       "      <th>eaper_f160w</th>\n",
       "      <th>faper_f140w</th>\n",
       "      <th>eaper_f140w</th>\n",
       "      <th>f_f160w</th>\n",
       "      <th>...</th>\n",
       "      <th>irac2_contam</th>\n",
       "      <th>irac3_contam</th>\n",
       "      <th>irac4_contam</th>\n",
       "      <th>contam_flag</th>\n",
       "      <th>f140w_flag</th>\n",
       "      <th>use_phot</th>\n",
       "      <th>near_star</th>\n",
       "      <th>nexp_f125w</th>\n",
       "      <th>nexp_f140w</th>\n",
       "      <th>nexp_f160w</th>\n",
       "    </tr>\n",
       "  </thead>\n",
       "  <tbody>\n",
       "    <tr>\n",
       "      <th>0</th>\n",
       "      <td>1</td>\n",
       "      <td>11876.639</td>\n",
       "      <td>1632.890</td>\n",
       "      <td>53.093012</td>\n",
       "      <td>-27.954546</td>\n",
       "      <td>55.142755</td>\n",
       "      <td>0.046190</td>\n",
       "      <td>-99.000000</td>\n",
       "      <td>-99.000000</td>\n",
       "      <td>152.454867</td>\n",
       "      <td>...</td>\n",
       "      <td>0.000031</td>\n",
       "      <td>0.000187</td>\n",
       "      <td>0.001174</td>\n",
       "      <td>0</td>\n",
       "      <td>0</td>\n",
       "      <td>1</td>\n",
       "      <td>0</td>\n",
       "      <td>4.0</td>\n",
       "      <td>0.0</td>\n",
       "      <td>4.0</td>\n",
       "    </tr>\n",
       "    <tr>\n",
       "      <th>1</th>\n",
       "      <td>2</td>\n",
       "      <td>12056.715</td>\n",
       "      <td>1321.055</td>\n",
       "      <td>53.089613</td>\n",
       "      <td>-27.959742</td>\n",
       "      <td>0.530063</td>\n",
       "      <td>0.077372</td>\n",
       "      <td>-99.000000</td>\n",
       "      <td>-99.000000</td>\n",
       "      <td>0.638394</td>\n",
       "      <td>...</td>\n",
       "      <td>-99.000000</td>\n",
       "      <td>-99.000000</td>\n",
       "      <td>-99.000000</td>\n",
       "      <td>0</td>\n",
       "      <td>0</td>\n",
       "      <td>0</td>\n",
       "      <td>0</td>\n",
       "      <td>2.0</td>\n",
       "      <td>0.0</td>\n",
       "      <td>1.0</td>\n",
       "    </tr>\n",
       "    <tr>\n",
       "      <th>2</th>\n",
       "      <td>3</td>\n",
       "      <td>11351.875</td>\n",
       "      <td>1327.244</td>\n",
       "      <td>53.102913</td>\n",
       "      <td>-27.959642</td>\n",
       "      <td>0.467791</td>\n",
       "      <td>0.200590</td>\n",
       "      <td>-99.000000</td>\n",
       "      <td>-99.000000</td>\n",
       "      <td>0.714355</td>\n",
       "      <td>...</td>\n",
       "      <td>-99.000000</td>\n",
       "      <td>-99.000000</td>\n",
       "      <td>-99.000000</td>\n",
       "      <td>0</td>\n",
       "      <td>0</td>\n",
       "      <td>0</td>\n",
       "      <td>0</td>\n",
       "      <td>1.0</td>\n",
       "      <td>0.0</td>\n",
       "      <td>1.0</td>\n",
       "    </tr>\n",
       "    <tr>\n",
       "      <th>3</th>\n",
       "      <td>4</td>\n",
       "      <td>11415.681</td>\n",
       "      <td>1396.836</td>\n",
       "      <td>53.101709</td>\n",
       "      <td>-27.958481</td>\n",
       "      <td>12.497384</td>\n",
       "      <td>0.086093</td>\n",
       "      <td>-99.000000</td>\n",
       "      <td>-99.000000</td>\n",
       "      <td>27.270285</td>\n",
       "      <td>...</td>\n",
       "      <td>0.057395</td>\n",
       "      <td>0.206347</td>\n",
       "      <td>0.000656</td>\n",
       "      <td>0</td>\n",
       "      <td>0</td>\n",
       "      <td>1</td>\n",
       "      <td>0</td>\n",
       "      <td>2.0</td>\n",
       "      <td>0.0</td>\n",
       "      <td>2.0</td>\n",
       "    </tr>\n",
       "    <tr>\n",
       "      <th>4</th>\n",
       "      <td>5</td>\n",
       "      <td>11385.570</td>\n",
       "      <td>1384.729</td>\n",
       "      <td>53.102277</td>\n",
       "      <td>-27.958683</td>\n",
       "      <td>1.101740</td>\n",
       "      <td>0.087183</td>\n",
       "      <td>-99.000000</td>\n",
       "      <td>-99.000000</td>\n",
       "      <td>1.412912</td>\n",
       "      <td>...</td>\n",
       "      <td>2.027536</td>\n",
       "      <td>0.575527</td>\n",
       "      <td>-2.653543</td>\n",
       "      <td>1</td>\n",
       "      <td>0</td>\n",
       "      <td>1</td>\n",
       "      <td>0</td>\n",
       "      <td>2.0</td>\n",
       "      <td>0.0</td>\n",
       "      <td>2.0</td>\n",
       "    </tr>\n",
       "    <tr>\n",
       "      <th>...</th>\n",
       "      <td>...</td>\n",
       "      <td>...</td>\n",
       "      <td>...</td>\n",
       "      <td>...</td>\n",
       "      <td>...</td>\n",
       "      <td>...</td>\n",
       "      <td>...</td>\n",
       "      <td>...</td>\n",
       "      <td>...</td>\n",
       "      <td>...</td>\n",
       "      <td>...</td>\n",
       "      <td>...</td>\n",
       "      <td>...</td>\n",
       "      <td>...</td>\n",
       "      <td>...</td>\n",
       "      <td>...</td>\n",
       "      <td>...</td>\n",
       "      <td>...</td>\n",
       "      <td>...</td>\n",
       "      <td>...</td>\n",
       "      <td>...</td>\n",
       "    </tr>\n",
       "    <tr>\n",
       "      <th>50502</th>\n",
       "      <td>50503</td>\n",
       "      <td>3207.811</td>\n",
       "      <td>18767.998</td>\n",
       "      <td>53.256225</td>\n",
       "      <td>-27.668900</td>\n",
       "      <td>0.083831</td>\n",
       "      <td>0.017599</td>\n",
       "      <td>0.009053</td>\n",
       "      <td>0.083001</td>\n",
       "      <td>0.151608</td>\n",
       "      <td>...</td>\n",
       "      <td>-0.858407</td>\n",
       "      <td>-99.000000</td>\n",
       "      <td>-99.000000</td>\n",
       "      <td>0</td>\n",
       "      <td>0</td>\n",
       "      <td>1</td>\n",
       "      <td>0</td>\n",
       "      <td>24.0</td>\n",
       "      <td>4.0</td>\n",
       "      <td>26.0</td>\n",
       "    </tr>\n",
       "    <tr>\n",
       "      <th>50503</th>\n",
       "      <td>50504</td>\n",
       "      <td>3319.077</td>\n",
       "      <td>18889.404</td>\n",
       "      <td>53.254129</td>\n",
       "      <td>-27.666879</td>\n",
       "      <td>0.030584</td>\n",
       "      <td>0.017599</td>\n",
       "      <td>0.079141</td>\n",
       "      <td>0.082396</td>\n",
       "      <td>0.033300</td>\n",
       "      <td>...</td>\n",
       "      <td>-1.151515</td>\n",
       "      <td>-99.000000</td>\n",
       "      <td>-99.000000</td>\n",
       "      <td>0</td>\n",
       "      <td>0</td>\n",
       "      <td>0</td>\n",
       "      <td>0</td>\n",
       "      <td>24.0</td>\n",
       "      <td>4.0</td>\n",
       "      <td>26.0</td>\n",
       "    </tr>\n",
       "    <tr>\n",
       "      <th>50504</th>\n",
       "      <td>50505</td>\n",
       "      <td>7634.091</td>\n",
       "      <td>18915.908</td>\n",
       "      <td>53.172928</td>\n",
       "      <td>-27.666490</td>\n",
       "      <td>0.303036</td>\n",
       "      <td>0.024853</td>\n",
       "      <td>-99.000000</td>\n",
       "      <td>-99.000000</td>\n",
       "      <td>0.555012</td>\n",
       "      <td>...</td>\n",
       "      <td>1.567742</td>\n",
       "      <td>-0.129032</td>\n",
       "      <td>-1.215094</td>\n",
       "      <td>1</td>\n",
       "      <td>0</td>\n",
       "      <td>1</td>\n",
       "      <td>0</td>\n",
       "      <td>6.0</td>\n",
       "      <td>0.0</td>\n",
       "      <td>6.0</td>\n",
       "    </tr>\n",
       "    <tr>\n",
       "      <th>50505</th>\n",
       "      <td>50506</td>\n",
       "      <td>8669.859</td>\n",
       "      <td>18840.100</td>\n",
       "      <td>53.153437</td>\n",
       "      <td>-27.667759</td>\n",
       "      <td>0.416449</td>\n",
       "      <td>0.024596</td>\n",
       "      <td>-99.000000</td>\n",
       "      <td>-99.000000</td>\n",
       "      <td>0.526232</td>\n",
       "      <td>...</td>\n",
       "      <td>1.182879</td>\n",
       "      <td>0.794521</td>\n",
       "      <td>-0.668966</td>\n",
       "      <td>1</td>\n",
       "      <td>0</td>\n",
       "      <td>0</td>\n",
       "      <td>1</td>\n",
       "      <td>6.0</td>\n",
       "      <td>0.0</td>\n",
       "      <td>6.0</td>\n",
       "    </tr>\n",
       "    <tr>\n",
       "      <th>50506</th>\n",
       "      <td>50507</td>\n",
       "      <td>3041.903</td>\n",
       "      <td>18822.670</td>\n",
       "      <td>53.259346</td>\n",
       "      <td>-27.667986</td>\n",
       "      <td>0.030183</td>\n",
       "      <td>0.017599</td>\n",
       "      <td>0.011191</td>\n",
       "      <td>0.084154</td>\n",
       "      <td>0.036352</td>\n",
       "      <td>...</td>\n",
       "      <td>-99.000000</td>\n",
       "      <td>-99.000000</td>\n",
       "      <td>-99.000000</td>\n",
       "      <td>0</td>\n",
       "      <td>0</td>\n",
       "      <td>0</td>\n",
       "      <td>0</td>\n",
       "      <td>24.0</td>\n",
       "      <td>4.0</td>\n",
       "      <td>26.0</td>\n",
       "    </tr>\n",
       "  </tbody>\n",
       "</table>\n",
       "<p>50507 rows × 141 columns</p>\n",
       "</div>"
      ],
      "text/plain": [
       "          id          x          y         ra        dec  faper_f160w  \\\n",
       "0          1  11876.639   1632.890  53.093012 -27.954546    55.142755   \n",
       "1          2  12056.715   1321.055  53.089613 -27.959742     0.530063   \n",
       "2          3  11351.875   1327.244  53.102913 -27.959642     0.467791   \n",
       "3          4  11415.681   1396.836  53.101709 -27.958481    12.497384   \n",
       "4          5  11385.570   1384.729  53.102277 -27.958683     1.101740   \n",
       "...      ...        ...        ...        ...        ...          ...   \n",
       "50502  50503   3207.811  18767.998  53.256225 -27.668900     0.083831   \n",
       "50503  50504   3319.077  18889.404  53.254129 -27.666879     0.030584   \n",
       "50504  50505   7634.091  18915.908  53.172928 -27.666490     0.303036   \n",
       "50505  50506   8669.859  18840.100  53.153437 -27.667759     0.416449   \n",
       "50506  50507   3041.903  18822.670  53.259346 -27.667986     0.030183   \n",
       "\n",
       "       eaper_f160w  faper_f140w  eaper_f140w     f_f160w  ...  irac2_contam  \\\n",
       "0         0.046190   -99.000000   -99.000000  152.454867  ...      0.000031   \n",
       "1         0.077372   -99.000000   -99.000000    0.638394  ...    -99.000000   \n",
       "2         0.200590   -99.000000   -99.000000    0.714355  ...    -99.000000   \n",
       "3         0.086093   -99.000000   -99.000000   27.270285  ...      0.057395   \n",
       "4         0.087183   -99.000000   -99.000000    1.412912  ...      2.027536   \n",
       "...            ...          ...          ...         ...  ...           ...   \n",
       "50502     0.017599     0.009053     0.083001    0.151608  ...     -0.858407   \n",
       "50503     0.017599     0.079141     0.082396    0.033300  ...     -1.151515   \n",
       "50504     0.024853   -99.000000   -99.000000    0.555012  ...      1.567742   \n",
       "50505     0.024596   -99.000000   -99.000000    0.526232  ...      1.182879   \n",
       "50506     0.017599     0.011191     0.084154    0.036352  ...    -99.000000   \n",
       "\n",
       "       irac3_contam  irac4_contam  contam_flag  f140w_flag  use_phot  \\\n",
       "0          0.000187      0.001174            0           0         1   \n",
       "1        -99.000000    -99.000000            0           0         0   \n",
       "2        -99.000000    -99.000000            0           0         0   \n",
       "3          0.206347      0.000656            0           0         1   \n",
       "4          0.575527     -2.653543            1           0         1   \n",
       "...             ...           ...          ...         ...       ...   \n",
       "50502    -99.000000    -99.000000            0           0         1   \n",
       "50503    -99.000000    -99.000000            0           0         0   \n",
       "50504     -0.129032     -1.215094            1           0         1   \n",
       "50505      0.794521     -0.668966            1           0         0   \n",
       "50506    -99.000000    -99.000000            0           0         0   \n",
       "\n",
       "       near_star  nexp_f125w  nexp_f140w  nexp_f160w  \n",
       "0              0         4.0         0.0         4.0  \n",
       "1              0         2.0         0.0         1.0  \n",
       "2              0         1.0         0.0         1.0  \n",
       "3              0         2.0         0.0         2.0  \n",
       "4              0         2.0         0.0         2.0  \n",
       "...          ...         ...         ...         ...  \n",
       "50502          0        24.0         4.0        26.0  \n",
       "50503          0        24.0         4.0        26.0  \n",
       "50504          0         6.0         0.0         6.0  \n",
       "50505          1         6.0         0.0         6.0  \n",
       "50506          0        24.0         4.0        26.0  \n",
       "\n",
       "[50507 rows x 141 columns]"
      ]
     },
     "execution_count": 42,
     "metadata": {},
     "output_type": "execute_result"
    }
   ],
   "source": [
    "#When you look at cat_df it should look like this"
   ]
  },
  {
   "cell_type": "code",
   "execution_count": 43,
   "metadata": {},
   "outputs": [],
   "source": [
    "# Make fast_df "
   ]
  },
  {
   "cell_type": "code",
   "execution_count": null,
   "metadata": {},
   "outputs": [],
   "source": [
    "# look at it"
   ]
  },
  {
   "cell_type": "code",
   "execution_count": 254,
   "metadata": {},
   "outputs": [],
   "source": [
    "#Make rf_df "
   ]
  },
  {
   "cell_type": "code",
   "execution_count": null,
   "metadata": {},
   "outputs": [],
   "source": [
    "# look at it"
   ]
  },
  {
   "cell_type": "code",
   "execution_count": 47,
   "metadata": {},
   "outputs": [],
   "source": [
    "# make z_df "
   ]
  },
  {
   "cell_type": "code",
   "execution_count": 255,
   "metadata": {},
   "outputs": [],
   "source": [
    "# look at it"
   ]
  },
  {
   "cell_type": "markdown",
   "metadata": {},
   "source": [
    "### Problem 2.2 \n",
    "\n",
    "You should notice that every one of these tables has 50507 rows. This is a relief! It means the creators were consistent, and that each object has a row in each table. \n",
    "\n",
    "You should also notice one column, `id`, is a unique identifier for each row in each table (and is consistent across tables). Pandas has assigned its own index (it's off by 1 from the id column), but we might as well use `id`. \n",
    "\n",
    "**For each of your four dataframes, set 'id' to be the index column. Show one of the df's to show this worked.**"
   ]
  },
  {
   "cell_type": "code",
   "execution_count": 49,
   "metadata": {},
   "outputs": [],
   "source": [
    "# overwrite dataframes to have 'id' as index"
   ]
  },
  {
   "cell_type": "code",
   "execution_count": 256,
   "metadata": {},
   "outputs": [],
   "source": [
    "# Show one of your dataframes to confirm this worked. "
   ]
  },
  {
   "cell_type": "markdown",
   "metadata": {},
   "source": [
    "### Problem 2.3 \n",
    "\n",
    "Instead of working with these four dataframes separately, let's join them all into one MEGA DATAFRAME. \n",
    "\n",
    "By setting 'id' as the index for each, we'll be able to merge the dataframes using `pd.merge` with the `left_index` and `right_index` parameters set to true. \n",
    "\n",
    "**Create your mega dataframe, which we'll simply call `df`, by consecutively merging the first two, then third and fourth dataframes.**\n",
    "\n",
    "```{hint}\n",
    "You should end up with 215 columns in your final dataframe.\n",
    "```"
   ]
  },
  {
   "cell_type": "code",
   "execution_count": 257,
   "metadata": {},
   "outputs": [],
   "source": [
    "#Merge the dataframes"
   ]
  },
  {
   "cell_type": "markdown",
   "metadata": {},
   "source": [
    "### Problem 2.4 \n",
    "\n",
    "Let's take a look at the redshift distribution of sources in the catalog.\n",
    "\n",
    "There are several estimates of the photometric redshift, the one we want to use is `z_peak` for photometry, or, if available, `z_spec_x`, from spectroscopy. \n",
    "\n",
    "**What percentage of the catalog have measured spectroscopic redshifts? The `z_spec_x` column is set to `-1` if no spectroscopic redshift exits.**"
   ]
  },
  {
   "cell_type": "code",
   "execution_count": 258,
   "metadata": {},
   "outputs": [],
   "source": [
    "# calculate here"
   ]
  },
  {
   "cell_type": "markdown",
   "metadata": {},
   "source": [
    "### Problem 2.5 \n",
    "\n",
    "Write a function `get_redshift()` which takes in an object ID, and returns `z_spec_x` for that source if it's not -1, otherwise returns `z_peak`. Because `id` is a special word in python, we suggest using `objid` as the input, and setting df=df as an optional argument. You can make this a memory lite function by using `df.loc[]` to pull the row and only the two columns you need for this.\n",
    "\n",
    "There are two additional \"flagged\" values: -99.0 and -99.9 -- Have your function output np.nan if this is the value in the table. \n",
    "\n",
    "Your function should return the redshift as well as a flag (string) 's' or 'p', or 'f' for spectroscopic or photometric (or fail, if you're returning nan). "
   ]
  },
  {
   "cell_type": "code",
   "execution_count": 107,
   "metadata": {},
   "outputs": [],
   "source": [
    "#Your get redshift function here "
   ]
  },
  {
   "cell_type": "markdown",
   "metadata": {},
   "source": [
    "Confirm your function works by testing it on objid 150; your results should match mine below:"
   ]
  },
  {
   "cell_type": "code",
   "execution_count": 108,
   "metadata": {},
   "outputs": [
    {
     "data": {
      "text/plain": [
       "(1.6689, 'p')"
      ]
     },
     "execution_count": 108,
     "metadata": {},
     "output_type": "execute_result"
    }
   ],
   "source": [
    "# Run your function "
   ]
  },
  {
   "cell_type": "markdown",
   "metadata": {},
   "source": [
    "### Problem 2.6 \n",
    "\n",
    "Now that we can get the best redshift for each row, use a list comprehension to grab these values for every object. You can index the output tuple of your function at 0 to drop the flag for now. \n",
    "\n",
    "Once you have this, plot a histogram of the redshifts, using `fig, ax = plt.subplots`. Make your plot nice!\n",
    "\n",
    "```{note}\n",
    "My list comprehension takes ~15 seconds to run. It's a lot of data! If you wish, you may try to find a more optimized solution built on a full column operation rather than a loop. One possibility is to take the spec-z column, mask any bad values, and then replace those entries in the z-phot column and plot that... \n",
    "```"
   ]
  },
  {
   "cell_type": "code",
   "execution_count": 109,
   "metadata": {},
   "outputs": [],
   "source": [
    "#Get all (best) redshifts"
   ]
  },
  {
   "cell_type": "code",
   "execution_count": 110,
   "metadata": {},
   "outputs": [],
   "source": [
    "# We suggest making it an array after the list comprehension. "
   ]
  },
  {
   "cell_type": "markdown",
   "metadata": {},
   "source": [
    "```{hint}\n",
    "You'll want to index just the non-nan values to make your plot. You can access the non-nan elements in an array via `arr[~np.isnan(arr)]`, with the tilde serving to invert the selection.\n",
    "```"
   ]
  },
  {
   "cell_type": "code",
   "execution_count": 113,
   "metadata": {},
   "outputs": [
    {
     "data": {
      "image/png": "[encoded data removed]",
      "text/plain": [
       "<Figure size 648x648 with 1 Axes>"
      ]
     },
     "metadata": {
      "filenames": {
       "image/png": "/Users/ipasha/git/Astro-330.github.io/_build/jupyter_execute/Lab6/Lab6_49_0.png"
      },
      "needs_background": "light"
     },
     "output_type": "display_data"
    }
   ],
   "source": [
    "# Your plot here, mine for reference "
   ]
  },
  {
   "cell_type": "markdown",
   "metadata": {},
   "source": [
    "### Problem 2.7\n",
    "\n",
    "Now do the same, but separately plot the distributions of redshift for those with spectroscopic redshifts and those that only have photometric. For this, you'll want to set `density=True` in your `hist`, and play with the linestyles and opacities so that both are visible. \n",
    "\n",
    "**Bonus (+0.5): Use KDE from seaborn to smoothly represent the distribution**. "
   ]
  },
  {
   "cell_type": "code",
   "execution_count": 114,
   "metadata": {},
   "outputs": [],
   "source": [
    "# build specz list "
   ]
  },
  {
   "cell_type": "code",
   "execution_count": 115,
   "metadata": {},
   "outputs": [],
   "source": [
    "# build photz list "
   ]
  },
  {
   "cell_type": "code",
   "execution_count": 143,
   "metadata": {},
   "outputs": [
    {
     "data": {
      "image/png": "[encoded data removed]",
      "text/plain": [
       "<Figure size 648x648 with 1 Axes>"
      ]
     },
     "metadata": {
      "filenames": {
       "image/png": "/Users/ipasha/git/Astro-330.github.io/_build/jupyter_execute/Lab6/Lab6_53_0.png"
      },
      "needs_background": "light"
     },
     "output_type": "display_data"
    }
   ],
   "source": [
    "# Plot it; here's mine!"
   ]
  },
  {
   "cell_type": "markdown",
   "metadata": {},
   "source": [
    "**Do the differences between the two distributions make sense? Why or why not?**"
   ]
  },
  {
   "cell_type": "code",
   "execution_count": null,
   "metadata": {},
   "outputs": [],
   "source": [
    "# answer here"
   ]
  },
  {
   "cell_type": "markdown",
   "metadata": {},
   "source": [
    "## Problem 3\n",
    "\n",
    "The [UVJ diagram](https://iopscience.iop.org/article/10.3847/2041-8213/ab2f8c/pdf) is a useful diagnostic tool in extragalactic astronomy which allows one to relatively accurately diagnose a galaxy as star forming or quiescent, even in the presence of dust. You can read more at the link if you're unfamiliar. It is composed by plotting the \"U-V\" color of the galaxy against the \"V-J\" colors. You'll likely know U and V (these are from the Johnsons-Cousin's filter system). J is a filter in the near infrared. \n",
    "\n",
    "In this problem, we're going to write a function that can create a UVJ diagram for subsets of our data, cutting on mass and redshift. \n",
    "\n",
    "You'll need to access the following columns in the data (besides redshift, which you've already handled):\n",
    "\n",
    "- stellar mass: the mass of all the stars in the galaxy. (column: `lmass`, flagged value of -1)\n",
    "- star formation rate: rate at which galaxy is forming stars. (column: `lsfr`, flagged value of -99.0)\n",
    "- U band flux density (column: `l153`, flagged value of -99.0)\n",
    "- V band flux density (column: `l155`, flagged value of -99.0)\n",
    "- J band flux density (column: `l161`, flagged value of -99.0)\n",
    "\n",
    "### Problem 3.1 \n",
    "\n",
    "For step one, we need to be able to filter our dataframe for particular mass and redshift ranges. \n",
    "\n",
    "Write a function, `select_galaxies()`, which takes as arguments `M, delta_M, z, delta_z` (and our dataframe). \n",
    "It should then return a df of only systems between M-deltaM to M+deltaM, and z-deltaz to z+deltaz. The columns it should return are the ones specified above, plus 'z'.\n",
    "\n",
    "There is actually a column in `rf_df` called `z`, that contains the spec_z if available or the peak z if not. At the time of writing, I cannot determine why this column was not included in the merge. In any case, set `df['z']` equal to `rf_df.z` before continuing, as you'll use it below.\n",
    "\n",
    "\n",
    "```{note}\n",
    "All masses and sfrs are in log units. \n",
    "```\n",
    "\n",
    "Try your function out using a mass of 10, delta M of 0.5 (i.e., a bin from 9.5 - 10.5), a redshift of 1, and a delta z of 0.25."
   ]
  },
  {
   "cell_type": "code",
   "execution_count": null,
   "metadata": {},
   "outputs": [],
   "source": [
    "# Add rf_df.z to the dataframe df "
   ]
  },
  {
   "cell_type": "code",
   "execution_count": 262,
   "metadata": {},
   "outputs": [],
   "source": [
    "# Define your select galaxies function \n"
   ]
  },
  {
   "cell_type": "code",
   "execution_count": 261,
   "metadata": {},
   "outputs": [],
   "source": [
    "# Here's the output for the provided example \n"
   ]
  },
  {
   "cell_type": "markdown",
   "metadata": {},
   "source": [
    "### Problem 3.2\n",
    "\n",
    "Great, we can now get subsamples in mass/redshift bins. This is important because the UVJ diagram actually changes as a function of mass and redshift. \n",
    "\n",
    "Next we need to get the colors out. Write a function `get_colors()` which takes the same arguments as your `select_galaxies()` function above. Inside, it should run `select_galaxies` passing through the arguments, and then from the resulting data frame, calculate U-V and U-J (see below). Add these as columns to said dataframe with names 'U-V' and 'V-J' and return it. \n",
    "\n",
    "Run this function with the same mass/redshift bin from above and look at it.\n",
    "\n",
    "```{warning}\n",
    "As noted above, the U,V, and J band data are in Fnu (flux densities). Thus, a color is computed via -2.5*log10(Lfilter1/Lfilter2)\n",
    "```\n"
   ]
  },
  {
   "cell_type": "code",
   "execution_count": 263,
   "metadata": {},
   "outputs": [],
   "source": [
    "#Define get colors "
   ]
  },
  {
   "cell_type": "code",
   "execution_count": 264,
   "metadata": {},
   "outputs": [
    {
     "data": {
      "text/html": [
       "<div>\n",
       "<style scoped>\n",
       "    .dataframe tbody tr th:only-of-type {\n",
       "        vertical-align: middle;\n",
       "    }\n",
       "\n",
       "    .dataframe tbody tr th {\n",
       "        vertical-align: top;\n",
       "    }\n",
       "\n",
       "    .dataframe thead th {\n",
       "        text-align: right;\n",
       "    }\n",
       "</style>\n",
       "<table border=\"1\" class=\"dataframe\">\n",
       "  <thead>\n",
       "    <tr style=\"text-align: right;\">\n",
       "      <th></th>\n",
       "      <th>z</th>\n",
       "      <th>lmass</th>\n",
       "      <th>lsfr</th>\n",
       "      <th>l153</th>\n",
       "      <th>l155</th>\n",
       "      <th>l161</th>\n",
       "      <th>U-V</th>\n",
       "      <th>V-J</th>\n",
       "    </tr>\n",
       "    <tr>\n",
       "      <th>id</th>\n",
       "      <th></th>\n",
       "      <th></th>\n",
       "      <th></th>\n",
       "      <th></th>\n",
       "      <th></th>\n",
       "      <th></th>\n",
       "      <th></th>\n",
       "      <th></th>\n",
       "    </tr>\n",
       "  </thead>\n",
       "  <tbody>\n",
       "    <tr>\n",
       "      <th>44</th>\n",
       "      <td>0.68402</td>\n",
       "      <td>9.89</td>\n",
       "      <td>-1.28</td>\n",
       "      <td>3.76739</td>\n",
       "      <td>14.43560</td>\n",
       "      <td>46.5213</td>\n",
       "      <td>1.458486</td>\n",
       "      <td>1.270543</td>\n",
       "    </tr>\n",
       "    <tr>\n",
       "      <th>92</th>\n",
       "      <td>0.69426</td>\n",
       "      <td>9.76</td>\n",
       "      <td>-0.03</td>\n",
       "      <td>8.08497</td>\n",
       "      <td>21.07790</td>\n",
       "      <td>48.3969</td>\n",
       "      <td>1.040372</td>\n",
       "      <td>0.902476</td>\n",
       "    </tr>\n",
       "    <tr>\n",
       "      <th>178</th>\n",
       "      <td>0.94790</td>\n",
       "      <td>10.36</td>\n",
       "      <td>-1.90</td>\n",
       "      <td>1.94721</td>\n",
       "      <td>8.60585</td>\n",
       "      <td>49.2509</td>\n",
       "      <td>1.613452</td>\n",
       "      <td>1.894051</td>\n",
       "    </tr>\n",
       "    <tr>\n",
       "      <th>194</th>\n",
       "      <td>0.65070</td>\n",
       "      <td>10.12</td>\n",
       "      <td>0.33</td>\n",
       "      <td>13.25220</td>\n",
       "      <td>42.32950</td>\n",
       "      <td>112.5340</td>\n",
       "      <td>1.260888</td>\n",
       "      <td>1.061602</td>\n",
       "    </tr>\n",
       "    <tr>\n",
       "      <th>236</th>\n",
       "      <td>0.53257</td>\n",
       "      <td>10.35</td>\n",
       "      <td>-0.74</td>\n",
       "      <td>8.31773</td>\n",
       "      <td>42.76950</td>\n",
       "      <td>111.6020</td>\n",
       "      <td>1.777823</td>\n",
       "      <td>1.041345</td>\n",
       "    </tr>\n",
       "    <tr>\n",
       "      <th>...</th>\n",
       "      <td>...</td>\n",
       "      <td>...</td>\n",
       "      <td>...</td>\n",
       "      <td>...</td>\n",
       "      <td>...</td>\n",
       "      <td>...</td>\n",
       "      <td>...</td>\n",
       "      <td>...</td>\n",
       "    </tr>\n",
       "    <tr>\n",
       "      <th>49702</th>\n",
       "      <td>0.53180</td>\n",
       "      <td>9.97</td>\n",
       "      <td>0.36</td>\n",
       "      <td>41.66110</td>\n",
       "      <td>91.52100</td>\n",
       "      <td>200.9220</td>\n",
       "      <td>0.854475</td>\n",
       "      <td>0.853767</td>\n",
       "    </tr>\n",
       "    <tr>\n",
       "      <th>50000</th>\n",
       "      <td>0.83535</td>\n",
       "      <td>9.84</td>\n",
       "      <td>0.23</td>\n",
       "      <td>9.25872</td>\n",
       "      <td>21.86220</td>\n",
       "      <td>52.2972</td>\n",
       "      <td>0.932857</td>\n",
       "      <td>0.946961</td>\n",
       "    </tr>\n",
       "    <tr>\n",
       "      <th>50399</th>\n",
       "      <td>0.68057</td>\n",
       "      <td>10.46</td>\n",
       "      <td>-10.14</td>\n",
       "      <td>6.08630</td>\n",
       "      <td>38.30250</td>\n",
       "      <td>119.6430</td>\n",
       "      <td>1.997184</td>\n",
       "      <td>1.236650</td>\n",
       "    </tr>\n",
       "    <tr>\n",
       "      <th>50494</th>\n",
       "      <td>0.71150</td>\n",
       "      <td>9.59</td>\n",
       "      <td>-0.71</td>\n",
       "      <td>13.17360</td>\n",
       "      <td>25.57520</td>\n",
       "      <td>41.6413</td>\n",
       "      <td>0.720286</td>\n",
       "      <td>0.529263</td>\n",
       "    </tr>\n",
       "    <tr>\n",
       "      <th>50500</th>\n",
       "      <td>0.57982</td>\n",
       "      <td>9.79</td>\n",
       "      <td>-1.38</td>\n",
       "      <td>10.99390</td>\n",
       "      <td>29.39910</td>\n",
       "      <td>67.9242</td>\n",
       "      <td>1.067956</td>\n",
       "      <td>0.909226</td>\n",
       "    </tr>\n",
       "  </tbody>\n",
       "</table>\n",
       "<p>669 rows × 8 columns</p>\n",
       "</div>"
      ],
      "text/plain": [
       "             z  lmass   lsfr      l153      l155      l161       U-V       V-J\n",
       "id                                                                            \n",
       "44     0.68402   9.89  -1.28   3.76739  14.43560   46.5213  1.458486  1.270543\n",
       "92     0.69426   9.76  -0.03   8.08497  21.07790   48.3969  1.040372  0.902476\n",
       "178    0.94790  10.36  -1.90   1.94721   8.60585   49.2509  1.613452  1.894051\n",
       "194    0.65070  10.12   0.33  13.25220  42.32950  112.5340  1.260888  1.061602\n",
       "236    0.53257  10.35  -0.74   8.31773  42.76950  111.6020  1.777823  1.041345\n",
       "...        ...    ...    ...       ...       ...       ...       ...       ...\n",
       "49702  0.53180   9.97   0.36  41.66110  91.52100  200.9220  0.854475  0.853767\n",
       "50000  0.83535   9.84   0.23   9.25872  21.86220   52.2972  0.932857  0.946961\n",
       "50399  0.68057  10.46 -10.14   6.08630  38.30250  119.6430  1.997184  1.236650\n",
       "50494  0.71150   9.59  -0.71  13.17360  25.57520   41.6413  0.720286  0.529263\n",
       "50500  0.57982   9.79  -1.38  10.99390  29.39910   67.9242  1.067956  0.909226\n",
       "\n",
       "[669 rows x 8 columns]"
      ]
     },
     "execution_count": 264,
     "metadata": {},
     "output_type": "execute_result"
    }
   ],
   "source": [
    "#Here's the output you're looking for. "
   ]
  },
  {
   "cell_type": "markdown",
   "metadata": {},
   "source": [
    "### Problem 3.3 \n",
    "\n",
    "Now that we can easily grab U-V and V-J colors for subsamples, we're ready to plot! \n",
    "\n",
    "Next, set your xlim and ylim to (0,2) in V-J (x axis) and (0,2.8) in U-V (y axis).\n",
    "\n",
    "Once you have the distribution plotted nicely, use the definitions of the bounding box provided in [Whitaker et al. 2011](https://iopscience.iop.org/article/10.1088/0004-637X/735/2/86/pdf) (Eqns 15, Fig 17 for example) to draw the box where quiescent galaxies sit. \n",
    "\n",
    "Finally, let's add the galaxies. For this example, use a log mass of 9.5 with a delta M of 2 (so, galaxies from $10^{7.5}$ $M_{\\odot}$ to $10^{11.5}$ $M_{\\odot}$), in the redshift range of 0.5 to 1.5. Can you identify the quiescent sequence?\n"
   ]
  },
  {
   "cell_type": "code",
   "execution_count": null,
   "metadata": {},
   "outputs": [],
   "source": []
  },
  {
   "cell_type": "markdown",
   "metadata": {},
   "source": [
    "### Bonus (+2) \n",
    "\n",
    "(+1) Now that you can easily plot up a UVJ diagram for a given mass/redshift bin, make a plot with 6 panels. Across the 3, plot the UVJ diagram in the redshift bins 0-0.5, 0.5-1.0, 1.0-2.0. In the top panel, include galaxies in the mass range 8-9.5, and in the bottom, 9.5-11. \n",
    "\n",
    "(+1) Feeling extra fancy? Use the conditions on the UVJ quiescent box to color the quiescent galaxies red and the star forming galaxies blue in you plots. \n",
    "\n"
   ]
  },
  {
   "cell_type": "code",
   "execution_count": null,
   "metadata": {},
   "outputs": [],
   "source": []
  },
  {
   "cell_type": "markdown",
   "metadata": {},
   "source": [
    "## Wrap Up\n",
    "\n",
    "We've barely scratched the surface for what we can do with `pandas`, but we hope that if you're planning to work with \"large\" amounts of data (say, 200 columns and 500,000 rows), then pandas is a great tool for working with them. "
   ]
  }
 ],
 "metadata": {
  "kernelspec": {
   "display_name": "a330",
   "language": "python",
   "name": "a330"
  },
  "language_info": {
   "codemirror_mode": {
    "name": "ipython",
    "version": 3
   },
   "file_extension": ".py",
   "mimetype": "text/x-python",
   "name": "python",
   "nbconvert_exporter": "python",
   "pygments_lexer": "ipython3",
   "version": "3.8.11"
  }
 },
 "nbformat": 4,
 "nbformat_minor": 4
}