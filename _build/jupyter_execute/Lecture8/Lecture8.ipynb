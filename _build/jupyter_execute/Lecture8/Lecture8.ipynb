{
 "cells": [
  {
   "cell_type": "markdown",
   "metadata": {
    "slideshow": {
     "slide_type": "slide"
    }
   },
   "source": [
    "# 8. Interactivity in Python"
   ]
  },
  {
   "cell_type": "markdown",
   "metadata": {
    "slideshow": {
     "slide_type": "slide"
    }
   },
   "source": [
    "### Announcements\n",
    "- Lab 7 due Wednesday \n",
    "- Interview with Shany Danieli on Friday\n",
    "-  Code Review I for final projects due on November 19 (50% complete, working examples)"
   ]
  },
  {
   "cell_type": "markdown",
   "metadata": {
    "slideshow": {
     "slide_type": "slide"
    }
   },
   "source": [
    "So far this semester, our interaction with Python has been primarily based in what I'll call \"CLI\", or command-line interface. If we want to, say, change a calculation, or what's being plotted, we have to change some lines of code and re-run our code (or `jupyter` cell). \n",
    "\n",
    "In many of your final projects, you'll be attempting to craft some form of ***interactive*** elements. This may look like input boxes, sliders, and buttons in a *Graphical User Interface* (GUI) run on a local computer, or similar inputs run on a website (also known as a *webapp*)."
   ]
  },
  {
   "cell_type": "markdown",
   "metadata": {
    "slideshow": {
     "slide_type": "slide"
    }
   },
   "source": [
    "Getting to a point where we have a functional web app is a multi-step process, and we'll have to learn a few things over the next week or two before we get there. But we can start learning some more simple interactive elements now. \n",
    "\n",
    "Generally, when we move to creating \"interactive apps\", we no longer want to be working in a Jupyter notebook. For this in class demo, please use an editor of your choice (juypter has one, or atom, sublime, vscode, etc., are all options). "
   ]
  },
  {
   "cell_type": "markdown",
   "metadata": {
    "slideshow": {
     "slide_type": "slide"
    }
   },
   "source": [
    "## Building an interactive Webapp with Streamlit "
   ]
  },
  {
   "cell_type": "markdown",
   "metadata": {
    "slideshow": {
     "slide_type": "slide"
    }
   },
   "source": [
    "We're going to go step by step today and build a functioning webapp (that runs locally) using a new tool called `streamlit`. I'm a fan of this package because it's explicit goal is making the jump from working with the data in python, to displaying it and making it interactive online, as simple as possible --- certainly simpler than other frameworks I've worked with. "
   ]
  },
  {
   "cell_type": "markdown",
   "metadata": {},
   "source": [
    "To start, you'll need to install it. You'll also need the package `spectral_cube`, as the data we're going to display in our app uses this. \n",
    "\n",
    "Go ahead and `pip install streamlit` and `pip install spectral_cube` in your `a330` environments. "
   ]
  },
  {
   "cell_type": "markdown",
   "metadata": {
    "slideshow": {
     "slide_type": "slide"
    }
   },
   "source": [
    "## Understanding the Data"
   ]
  },
  {
   "cell_type": "markdown",
   "metadata": {
    "slideshow": {
     "slide_type": "slide"
    }
   },
   "source": [
    "Before we can display and interact with our data, we need to understand what it is. The file you need for this \"lab\" is in the *Data Access* folder on our website/dropbox. It's a `FITS` file of radio data. As some of you may know, radio data captures both spatial information (like an image) and spectral information (the spectrum in each pixel).\n",
    "\n",
    "A convenient way to store this information is in a \"cube,\" where each slice is a flux map at a given wavelength (in radio, people use velocity as this axis, which is interchangeable)."
   ]
  },
  {
   "cell_type": "markdown",
   "metadata": {},
   "source": [
    "See below how to read in the data:"
   ]
  },
  {
   "cell_type": "code",
   "execution_count": 30,
   "metadata": {
    "collapsed": true,
    "jupyter": {
     "outputs_hidden": true
    }
   },
   "outputs": [
    {
     "name": "stderr",
     "output_type": "stream",
     "text": [
      "WARNING: VerifyWarning: Invalid 'BLANK' keyword in header.  The 'BLANK' keyword is only applicable to integer data, and will be ignored in this HDU. [astropy.io.fits.hdu.image]\n",
      "WARNING: No spectral axis found; header may be non-compliant. [spectral_cube.cube_utils]\n",
      "WARNING: Could not parse unit K.KM/S [spectral_cube.cube_utils]\n",
      "WARNING: Could not parse unit K.KM/S [spectral_cube.cube_utils]\n"
     ]
    }
   ],
   "source": [
    "from spectral_cube import SpectralCube\n",
    "import astropy.units as u \n",
    "\n",
    "cube = SpectralCube.read('ngc1333_12co.fits')\n",
    "cube = cube.with_spectral_unit(u.km / u.s)  "
   ]
  },
  {
   "cell_type": "markdown",
   "metadata": {
    "slideshow": {
     "slide_type": "slide"
    }
   },
   "source": [
    "Let's have a look at this cube object:"
   ]
  },
  {
   "cell_type": "code",
   "execution_count": 32,
   "metadata": {},
   "outputs": [
    {
     "data": {
      "text/plain": [
       "SpectralCube with shape=(301, 96, 81):\n",
       " n_x:     81  type_x: RA---SFL  unit_x: deg    range:    51.926288 deg:   52.578630 deg\n",
       " n_y:     96  type_y: DEC--SFL  unit_y: deg    range:    30.950806 deg:   31.610524 deg\n",
       " n_s:    301  type_s: VELO      unit_s: km / s  range:       -9.995 km / s:      29.995 km / s"
      ]
     },
     "execution_count": 32,
     "metadata": {},
     "output_type": "execute_result"
    }
   ],
   "source": [
    "cube"
   ]
  },
  {
   "cell_type": "code",
   "execution_count": 31,
   "metadata": {},
   "outputs": [
    {
     "data": {
      "text/latex": [
       "$[-9.9954128,~-9.862112,~-9.7288113,~\\dots,~29.72822,~29.861521,~29.994822] \\; \\mathrm{\\frac{km}{s}}$"
      ],
      "text/plain": [
       "<Quantity [-9.99541283e+00, -9.86211205e+00, -9.72881126e+00,\n",
       "           -9.59551048e+00, -9.46220970e+00, -9.32890892e+00,\n",
       "           -9.19560814e+00, -9.06230736e+00, -8.92900658e+00,\n",
       "           -8.79570580e+00, -8.66240501e+00, -8.52910423e+00,\n",
       "           -8.39580345e+00, -8.26250267e+00, -8.12920189e+00,\n",
       "           -7.99590111e+00, -7.86260033e+00, -7.72929955e+00,\n",
       "           -7.59599876e+00, -7.46269798e+00, -7.32939720e+00,\n",
       "           -7.19609642e+00, -7.06279564e+00, -6.92949486e+00,\n",
       "           -6.79619408e+00, -6.66289330e+00, -6.52959251e+00,\n",
       "           -6.39629173e+00, -6.26299095e+00, -6.12969017e+00,\n",
       "           -5.99638939e+00, -5.86308861e+00, -5.72978783e+00,\n",
       "           -5.59648705e+00, -5.46318626e+00, -5.32988548e+00,\n",
       "           -5.19658470e+00, -5.06328392e+00, -4.92998314e+00,\n",
       "           -4.79668236e+00, -4.66338158e+00, -4.53008080e+00,\n",
       "           -4.39678001e+00, -4.26347923e+00, -4.13017845e+00,\n",
       "           -3.99687767e+00, -3.86357689e+00, -3.73027611e+00,\n",
       "           -3.59697533e+00, -3.46367455e+00, -3.33037376e+00,\n",
       "           -3.19707298e+00, -3.06377220e+00, -2.93047142e+00,\n",
       "           -2.79717064e+00, -2.66386986e+00, -2.53056908e+00,\n",
       "           -2.39726830e+00, -2.26396751e+00, -2.13066673e+00,\n",
       "           -1.99736595e+00, -1.86406517e+00, -1.73076439e+00,\n",
       "           -1.59746361e+00, -1.46416283e+00, -1.33086205e+00,\n",
       "           -1.19756126e+00, -1.06426048e+00, -9.30959702e-01,\n",
       "           -7.97658921e-01, -6.64358139e-01, -5.31057358e-01,\n",
       "           -3.97756577e-01, -2.64455796e-01, -1.31155014e-01,\n",
       "            2.14576691e-03,  1.35446548e-01,  2.68747329e-01,\n",
       "            4.02048111e-01,  5.35348892e-01,  6.68649673e-01,\n",
       "            8.01950454e-01,  9.35251236e-01,  1.06855202e+00,\n",
       "            1.20185280e+00,  1.33515358e+00,  1.46845436e+00,\n",
       "            1.60175514e+00,  1.73505592e+00,  1.86835670e+00,\n",
       "            2.00165749e+00,  2.13495827e+00,  2.26825905e+00,\n",
       "            2.40155983e+00,  2.53486061e+00,  2.66816139e+00,\n",
       "            2.80146217e+00,  2.93476295e+00,  3.06806374e+00,\n",
       "            3.20136452e+00,  3.33466530e+00,  3.46796608e+00,\n",
       "            3.60126686e+00,  3.73456764e+00,  3.86786842e+00,\n",
       "            4.00116920e+00,  4.13446999e+00,  4.26777077e+00,\n",
       "            4.40107155e+00,  4.53437233e+00,  4.66767311e+00,\n",
       "            4.80097389e+00,  4.93427467e+00,  5.06757545e+00,\n",
       "            5.20087624e+00,  5.33417702e+00,  5.46747780e+00,\n",
       "            5.60077858e+00,  5.73407936e+00,  5.86738014e+00,\n",
       "            6.00068092e+00,  6.13398170e+00,  6.26728249e+00,\n",
       "            6.40058327e+00,  6.53388405e+00,  6.66718483e+00,\n",
       "            6.80048561e+00,  6.93378639e+00,  7.06708717e+00,\n",
       "            7.20038795e+00,  7.33368874e+00,  7.46698952e+00,\n",
       "            7.60029030e+00,  7.73359108e+00,  7.86689186e+00,\n",
       "            8.00019264e+00,  8.13349342e+00,  8.26679420e+00,\n",
       "            8.40009499e+00,  8.53339577e+00,  8.66669655e+00,\n",
       "            8.79999733e+00,  8.93329811e+00,  9.06659889e+00,\n",
       "            9.19989967e+00,  9.33320045e+00,  9.46650124e+00,\n",
       "            9.59980202e+00,  9.73310280e+00,  9.86640358e+00,\n",
       "            9.99970436e+00,  1.01330051e+01,  1.02663059e+01,\n",
       "            1.03996067e+01,  1.05329075e+01,  1.06662083e+01,\n",
       "            1.07995090e+01,  1.09328098e+01,  1.10661106e+01,\n",
       "            1.11994114e+01,  1.13327122e+01,  1.14660130e+01,\n",
       "            1.15993137e+01,  1.17326145e+01,  1.18659153e+01,\n",
       "            1.19992161e+01,  1.21325169e+01,  1.22658176e+01,\n",
       "            1.23991184e+01,  1.25324192e+01,  1.26657200e+01,\n",
       "            1.27990208e+01,  1.29323215e+01,  1.30656223e+01,\n",
       "            1.31989231e+01,  1.33322239e+01,  1.34655247e+01,\n",
       "            1.35988255e+01,  1.37321262e+01,  1.38654270e+01,\n",
       "            1.39987278e+01,  1.41320286e+01,  1.42653294e+01,\n",
       "            1.43986301e+01,  1.45319309e+01,  1.46652317e+01,\n",
       "            1.47985325e+01,  1.49318333e+01,  1.50651340e+01,\n",
       "            1.51984348e+01,  1.53317356e+01,  1.54650364e+01,\n",
       "            1.55983372e+01,  1.57316380e+01,  1.58649387e+01,\n",
       "            1.59982395e+01,  1.61315403e+01,  1.62648411e+01,\n",
       "            1.63981419e+01,  1.65314426e+01,  1.66647434e+01,\n",
       "            1.67980442e+01,  1.69313450e+01,  1.70646458e+01,\n",
       "            1.71979465e+01,  1.73312473e+01,  1.74645481e+01,\n",
       "            1.75978489e+01,  1.77311497e+01,  1.78644505e+01,\n",
       "            1.79977512e+01,  1.81310520e+01,  1.82643528e+01,\n",
       "            1.83976536e+01,  1.85309544e+01,  1.86642551e+01,\n",
       "            1.87975559e+01,  1.89308567e+01,  1.90641575e+01,\n",
       "            1.91974583e+01,  1.93307590e+01,  1.94640598e+01,\n",
       "            1.95973606e+01,  1.97306614e+01,  1.98639622e+01,\n",
       "            1.99972630e+01,  2.01305637e+01,  2.02638645e+01,\n",
       "            2.03971653e+01,  2.05304661e+01,  2.06637669e+01,\n",
       "            2.07970676e+01,  2.09303684e+01,  2.10636692e+01,\n",
       "            2.11969700e+01,  2.13302708e+01,  2.14635715e+01,\n",
       "            2.15968723e+01,  2.17301731e+01,  2.18634739e+01,\n",
       "            2.19967747e+01,  2.21300755e+01,  2.22633762e+01,\n",
       "            2.23966770e+01,  2.25299778e+01,  2.26632786e+01,\n",
       "            2.27965794e+01,  2.29298801e+01,  2.30631809e+01,\n",
       "            2.31964817e+01,  2.33297825e+01,  2.34630833e+01,\n",
       "            2.35963840e+01,  2.37296848e+01,  2.38629856e+01,\n",
       "            2.39962864e+01,  2.41295872e+01,  2.42628880e+01,\n",
       "            2.43961887e+01,  2.45294895e+01,  2.46627903e+01,\n",
       "            2.47960911e+01,  2.49293919e+01,  2.50626926e+01,\n",
       "            2.51959934e+01,  2.53292942e+01,  2.54625950e+01,\n",
       "            2.55958958e+01,  2.57291965e+01,  2.58624973e+01,\n",
       "            2.59957981e+01,  2.61290989e+01,  2.62623997e+01,\n",
       "            2.63957005e+01,  2.65290012e+01,  2.66623020e+01,\n",
       "            2.67956028e+01,  2.69289036e+01,  2.70622044e+01,\n",
       "            2.71955051e+01,  2.73288059e+01,  2.74621067e+01,\n",
       "            2.75954075e+01,  2.77287083e+01,  2.78620090e+01,\n",
       "            2.79953098e+01,  2.81286106e+01,  2.82619114e+01,\n",
       "            2.83952122e+01,  2.85285130e+01,  2.86618137e+01,\n",
       "            2.87951145e+01,  2.89284153e+01,  2.90617161e+01,\n",
       "            2.91950169e+01,  2.93283176e+01,  2.94616184e+01,\n",
       "            2.95949192e+01,  2.97282200e+01,  2.98615208e+01,\n",
       "            2.99948215e+01] km / s>"
      ]
     },
     "execution_count": 31,
     "metadata": {},
     "output_type": "execute_result"
    }
   ],
   "source": [
    "cube.spectral_axis"
   ]
  },
  {
   "cell_type": "markdown",
   "metadata": {
    "slideshow": {
     "slide_type": "slide"
    }
   },
   "source": [
    "We can pull a slice at any channel number (i.e., any velocity) via the following:"
   ]
  },
  {
   "cell_type": "code",
   "execution_count": 33,
   "metadata": {
    "slideshow": {
     "slide_type": "skip"
    }
   },
   "outputs": [],
   "source": [
    "%matplotlib inline"
   ]
  },
  {
   "cell_type": "code",
   "execution_count": 35,
   "metadata": {
    "slideshow": {
     "slide_type": "slide"
    }
   },
   "outputs": [
    {
     "data": {
      "text/plain": [
       "<matplotlib.image.AxesImage at 0x7f86f02918b0>"
      ]
     },
     "execution_count": 35,
     "metadata": {},
     "output_type": "execute_result"
    },
    {
     "data": {
      "image/png": "[encoded data removed]",
      "text/plain": [
       "<Figure size 360x360 with 1 Axes>"
      ]
     },
     "metadata": {
      "filenames": {
       "image/png": "/Users/ipasha/git/Astro-330.github.io/_build/jupyter_execute/Lecture8/Lecture8_16_1.png"
      },
      "needs_background": "light"
     },
     "output_type": "display_data"
    }
   ],
   "source": [
    "im = cube.unmasked_data[0]\n",
    "fig, ax = plt.subplots(figsize=(5,5))\n",
    "ax.imshow(im)"
   ]
  },
  {
   "cell_type": "markdown",
   "metadata": {},
   "source": [
    "Each of those images represents a slice of the emission of 12 CO at a single velocity."
   ]
  },
  {
   "cell_type": "markdown",
   "metadata": {
    "slideshow": {
     "slide_type": "slide"
    }
   },
   "source": [
    "*Exercise: Write a **function** `load_data()` which loads this fits file as shown above, sets the spectral units, and returns it*. "
   ]
  },
  {
   "cell_type": "markdown",
   "metadata": {
    "slideshow": {
     "slide_type": "slide"
    }
   },
   "source": [
    "## Why Interactivity?"
   ]
  },
  {
   "cell_type": "markdown",
   "metadata": {
    "slideshow": {
     "slide_type": "slide"
    }
   },
   "source": [
    "We can plot any individual frame (velocity slice) of our cube as shown above, re-running our code/cell for different channel numbers. But it is often valuable to \"page through\" this data, to quickly jump around, advance frames, etc. Additionally, what if we want to dynamically average or sum over some subset of slices? We can do that with interactivity. That brings us to Streamlit, and the concept of a webapp."
   ]
  },
  {
   "cell_type": "markdown",
   "metadata": {
    "slideshow": {
     "slide_type": "slide"
    }
   },
   "source": [
    "As intimated by Yao on Friday, Python Webapps involve two components: a `server`, where the \"backend\" of the code is running, and a \"frontend\", which comprises the html/css/js/nodejs that defines how users interact with the program within a browser. \n",
    "\n",
    "There exists things called `Frameworks` (examples include Flask, Django, Emmett, and FastAPI). These frameworks have things under the hood that let you connect together the frontend stuff (webpages, urls, etc), with the backend (a python server they're running). \n",
    "\n",
    "These can be involved to learn, but provide the ultimate amount of control over the way a website looks/feels/operates. `Streamlit` is a little different. It does run a server, but rather than provide a full framework, it's a true library of Python classes/methods that allow you to simply get things up and going, while sacrificing some creative control. For now, we'll host these servers \"locally\" (like a notebook), but the ultimate goal is usually to host it \"online\" somewhere where others can then use it."
   ]
  },
  {
   "cell_type": "markdown",
   "metadata": {
    "slideshow": {
     "slide_type": "slide"
    }
   },
   "source": [
    "We're going to use a few of the many elements available in streamlit for this demo:\n",
    "- sliders \n",
    "- range-sliders\n",
    "- buttons\n",
    "- image display\n",
    "- headers/text display"
   ]
  },
  {
   "cell_type": "markdown",
   "metadata": {
    "slideshow": {
     "slide_type": "slide"
    }
   },
   "source": [
    "## The Basics"
   ]
  },
  {
   "cell_type": "markdown",
   "metadata": {
    "slideshow": {
     "slide_type": "slide"
    }
   },
   "source": [
    "Streamlit has a lot of specialized commands, but an easy one to use (most of the time) is `st.write()`. This is designed to be a magic command that works like `print()`, but will nicely format whatever you put in (dataframe, number, text string) and then display it on your little webpage. \n",
    "\n",
    "If you made a file with multiple `st.write()` calls, they would appear in order on the page (as in the file). \n",
    "\n",
    "Similarly, if we want to, say, display a `matplotlib` figure, we use `st.pyplot(fig)`, feeding in some created figure. "
   ]
  },
  {
   "cell_type": "markdown",
   "metadata": {
    "slideshow": {
     "slide_type": "slide"
    }
   },
   "source": [
    "The most important concept to remember when working with `streamlit` is that any time a change is made (user slides a slider, hits a button, hits submit on a form, etc.), *the entire script is re-executed*. \n",
    "\n",
    "This means that by default, you don't have a `memory` or global namespace where variables are sticking around. Luckily, `streamlit` has an answer: `st.session_state`. \n",
    "\n",
    "Whenever a browser connects to the app and runs, there's a special container called session state, where if we want, we can store input values and \"remember\" them across re-runs, modifying them as desired when the user inputs certain things. "
   ]
  },
  {
   "cell_type": "markdown",
   "metadata": {
    "slideshow": {
     "slide_type": "slide"
    }
   },
   "source": [
    "When we want to use a session state variable, we need to make sure that at the start of a re-run, the variable doesn't get overwritten if it exists, but does get created if it doesn't. For that, we use this format:"
   ]
  },
  {
   "cell_type": "code",
   "execution_count": null,
   "metadata": {},
   "outputs": [],
   "source": [
    "if 'key' not in st.session_state:\n",
    "    st.session_state['key'] = something\n",
    "\n",
    "# Note, dot notation is also supported:\n",
    "if 'key' not in st.session_state:\n",
    "    st.session_state.key = something "
   ]
  },
  {
   "cell_type": "markdown",
   "metadata": {
    "slideshow": {
     "slide_type": "slide"
    }
   },
   "source": [
    "Later, in our code, we can access that variable via `st.session_state.key`, (or the dict-style). We can also change or overwrite it. As long as the browser session is going, this can keep going."
   ]
  },
  {
   "cell_type": "markdown",
   "metadata": {
    "slideshow": {
     "slide_type": "slide"
    }
   },
   "source": [
    "## Building the App"
   ]
  },
  {
   "cell_type": "markdown",
   "metadata": {
    "slideshow": {
     "slide_type": "slide"
    }
   },
   "source": [
    "It's time to start building. There'll be some more new things, but they make more sense in the context of the app. \n",
    "\n",
    "The first thing we need is imports. I'll provide the ones you need here:"
   ]
  },
  {
   "cell_type": "code",
   "execution_count": null,
   "metadata": {},
   "outputs": [],
   "source": [
    "import streamlit as st\n",
    "import matplotlib.pyplot as plt\n",
    "import numpy as np\n",
    "from spectral_cube import SpectralCube\n",
    "import astropy.units as u \n",
    "import copy "
   ]
  },
  {
   "cell_type": "markdown",
   "metadata": {
    "slideshow": {
     "slide_type": "slide"
    }
   },
   "source": [
    "Next, we need to get our data in. You've already done this in the exercise above: simply add your function in, and use it to load the data. But... for a bit of extra fun, add the following decorator (I'm about to explain decorators):"
   ]
  },
  {
   "cell_type": "code",
   "execution_count": null,
   "metadata": {},
   "outputs": [],
   "source": [
    "@st.cache(allow_output_mutation=True)\n",
    "def load_data():\n",
    "    # Your code here\n",
    "    return something\n",
    "\n",
    "cube = load_data()"
   ]
  },
  {
   "cell_type": "markdown",
   "metadata": {
    "slideshow": {
     "slide_type": "slide"
    }
   },
   "source": [
    "As I said above, streamlit runs your script everytime any of the interactive elements is interacted with. But we don't want to load this fits file every time, because that's slow. So we take advantage of a built-in streamlit trick in which it will `cache` the array containing the raw data (i.e., the execution of this function). This is sort of like saving it to the session_state. The specifying syntax, decorators, are specifiied with the `@` sign. If you'd like, we can cover these in a special session, but they're not super important at this stage."
   ]
  },
  {
   "cell_type": "markdown",
   "metadata": {
    "slideshow": {
     "slide_type": "slide"
    }
   },
   "source": [
    "Ok, so we have our data in our run script. How do we plot it? Below where it is loaded, go ahead and make some `fig, ax` objects using `subplots`, and then use the syntax we saw above for `spectral_cube` to plot (using `imshow`) the 0th channel slice of the data. The only extra line you need to get it to show up is \n",
    "\n",
    "```\n",
    "st.pyplot(fig)\n",
    "```\n",
    "\n",
    "after you've made your figure and run the imshow stuff."
   ]
  },
  {
   "cell_type": "code",
   "execution_count": null,
   "metadata": {},
   "outputs": [],
   "source": [
    "im = cube.unmasked_data[0]\n",
    "fig, ax = plt.subplots(figsize=(5,5))\n",
    "ax.imshow(im)"
   ]
  },
  {
   "cell_type": "markdown",
   "metadata": {
    "slideshow": {
     "slide_type": "slide"
    }
   },
   "source": [
    "Lastly, go ahead and throw an `st.title('My Webapp')` (or whatever you want) at the top of your script, after the imports. We're now ready to see if our app works (in this simple state). \n",
    "\n",
    "Go to the directory with the python file you made, and type\n",
    "\n",
    "```\n",
    "streamlit run app.py \n",
    "```\n",
    "where you put in the name of your file. It should open a webpage for you, or give you a webaddress to plug in. Did it work? Did you get an error?"
   ]
  },
  {
   "cell_type": "markdown",
   "metadata": {},
   "source": [
    "For the interactive nature of the app, we're going to need to track and remember the velocity channel we're in. Add the following to the top of your file (after the title but before anything else):"
   ]
  },
  {
   "cell_type": "code",
   "execution_count": null,
   "metadata": {},
   "outputs": [],
   "source": [
    "if 'channel' not in st.session_state:\n",
    "    st.session_state['channel'] = 0"
   ]
  },
  {
   "cell_type": "markdown",
   "metadata": {},
   "source": [
    "This will initialize the channel state variable and give it an initial value the *first* time the script is run during a session, but *won't* overwrite it any subsequent times during the same session."
   ]
  },
  {
   "cell_type": "markdown",
   "metadata": {
    "slideshow": {
     "slide_type": "slide"
    }
   },
   "source": [
    "Now for the fun bit. Add the following line somewhere below where you data is read in, but before your plotting lines:"
   ]
  },
  {
   "cell_type": "code",
   "execution_count": null,
   "metadata": {},
   "outputs": [],
   "source": [
    "st.session_state.channel = st.slider('Choose Channel',min_value=0,max_value=len(cube),value=None,step=1)"
   ]
  },
  {
   "cell_type": "markdown",
   "metadata": {},
   "source": [
    "And in your line where you currently query the datacube for the 0th slice, replace that 0 with "
   ]
  },
  {
   "cell_type": "code",
   "execution_count": null,
   "metadata": {},
   "outputs": [],
   "source": [
    "st.session_state.channel"
   ]
  },
  {
   "cell_type": "markdown",
   "metadata": {
    "slideshow": {
     "slide_type": "slide"
    }
   },
   "source": [
    "Rerun your code on the server... and you should have a functional slider that changes the slice being shown!"
   ]
  },
  {
   "cell_type": "markdown",
   "metadata": {
    "slideshow": {
     "slide_type": "slide"
    }
   },
   "source": [
    "For the rest of class, pick one additional feature shown in my demo to implement by reading the docs for streamlit -- either the widget (they call it `st.metric` for showing the actual velocity in km/s, or the buttons that advance the frames, or the range-slider (normal slider, different arguments) which shows the mean over that range. \n",
    "\n",
    "I recommend if you're going to do the buttons.... get rid of the slider. I can show how I got them to work together, but it took a bit of hacking. At the end, I'll show how mine works! (Mine's only ~45 lines of code).\n",
    "\n",
    "In summary, this took us (relatively) little time and very little extra lines of code, but we can make interactive tools for ourselves easily this way. "
   ]
  },
  {
   "cell_type": "markdown",
   "metadata": {},
   "source": [
    "### Working Streamlit Example (with multiple widgets)\n",
    "\n",
    "Below, (post-lecture), I've added the full script I used to make the \"flashy\" version of the demo; feel free to play around with it!"
   ]
  },
  {
   "cell_type": "code",
   "execution_count": null,
   "metadata": {},
   "outputs": [],
   "source": [
    "import streamlit as st\n",
    "import matplotlib.pyplot as plt\n",
    "import numpy as np\n",
    "from spectral_cube import SpectralCube\n",
    "import astropy.units as u \n",
    "import copy \n",
    "\n",
    "\n",
    "st.title('FITS Cube Viewer')\n",
    "\n",
    "st.header('Channel Viewer')\n",
    "if 'channel' not in st.session_state:\n",
    "    st.session_state['channel'] = 0\n",
    "\n",
    "if 'oldchannel' not in st.session_state:\n",
    "    st.session_state['oldchannel'] = 0 \n",
    "\n",
    "if 'velocity' not in st.session_state:\n",
    "    st.session_state['velocity'] = 0\n",
    "\n",
    "\n",
    "@st.cache(allow_output_mutation=True)\n",
    "def load_data():\n",
    "    cube = SpectralCube.read('ngc1333_12co.fits')\n",
    "    cube = cube.with_spectral_unit(u.km / u.s)  \n",
    "    return cube   \n",
    "\n",
    "data = load_data() \n",
    "\n",
    "if 'momrange' not in st.session_state:\n",
    "    st.session_state['momrange'] = (0,len(data)) \n",
    "\n",
    "col1,col2,col3 = st.columns(3)\n",
    "if col1.button('Previous Channel'):\n",
    "    if st.session_state.channel-1<=0:\n",
    "        st.write('Reached channel 0')\n",
    "    else:    \n",
    "        \n",
    "        st.session_state.channel-=1\n",
    "        st.session_state.oldchannel = copy.copy(st.session_state.channel)\n",
    "\n",
    "        \n",
    "if col3.button('Next Channel'):\n",
    "    if st.session_state.channel + 1 >= len(data):\n",
    "        st.write('Reached last channel!')\n",
    "    else:\n",
    "        \n",
    "        st.session_state.channel+=1\n",
    "        st.session_state.oldchannel = copy.copy(st.session_state.channel)\n",
    "\n",
    "\n",
    "st.session_state.channel = st.slider('Choose Channel',min_value=0,max_value=len(data),value=st.session_state.oldchannel,step=1)\n",
    "\n",
    "fig, ax = plt.subplots(figsize=(7,7))\n",
    "ax.imshow(data[st.session_state.channel].data) \n",
    "st.pyplot(fig)\n",
    "st.session_state.velocity = float(data.spectral_axis[st.session_state.channel].value)\n",
    "col2.metric('Velocity [km/s]', f'{st.session_state.velocity:.2f}', delta=None, delta_color=\"normal\")\n",
    "\n",
    "st.header('Moment Map Creator')\n",
    "\n",
    "st.session_state.momrange = st.slider('Select a range of channels',130, 145, (0, len(data)))\n",
    "\n",
    "fig2, ax2 = plt.subplots(figsize=(7,7))\n",
    "img = np.mean(data.unmasked_data[st.session_state.momrange[0]:st.session_state.momrange[1]],axis=0)\n",
    "ax2.imshow(img) \n",
    "st.pyplot(fig2)\n"
   ]
  }
 ],
 "metadata": {
  "kernelspec": {
   "display_name": "a330",
   "language": "python",
   "name": "a330"
  },
  "language_info": {
   "codemirror_mode": {
    "name": "ipython",
    "version": 3
   },
   "file_extension": ".py",
   "mimetype": "text/x-python",
   "name": "python",
   "nbconvert_exporter": "python",
   "pygments_lexer": "ipython3",
   "version": "3.8.11"
  }
 },
 "nbformat": 4,
 "nbformat_minor": 4
}